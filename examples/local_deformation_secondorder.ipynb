{
 "cells": [
  {
   "cell_type": "code",
   "execution_count": 1,
   "id": "fe418746",
   "metadata": {},
   "outputs": [],
   "source": [
    "import numpy as np\n",
    "import torch\n",
    "%matplotlib widget\n",
    "import matplotlib as mpl\n",
    "import matplotlib.pyplot as plt\n",
    "from mpl_toolkits.axes_grid1 import make_axes_locatable\n",
    "# enable LaTeX rendering and font family\n",
    "plt.rcParams['text.usetex'] = True\n",
    "plt.rcParams['font.family'] = 'Times'\n",
    "import sys\n",
    "sys.path.insert(0, '..')\n",
    "from learn_embedding.approximators import *\n",
    "from learn_embedding.covariances import *\n",
    "from learn_embedding.kernels import SquaredExp\n",
    "from learn_embedding.embedding import Embedding\n",
    "from learn_embedding.dynamics import SecondGeometry, LinearField\n",
    "from learn_embedding.utils import *\n",
    "from learn_embedding.utils.plotting import *"
   ]
  },
  {
   "cell_type": "code",
   "execution_count": 2,
   "id": "507b1885-19c4-4c01-9fe5-3b82c1a581a6",
   "metadata": {},
   "outputs": [],
   "source": [
    "# problem dimension\n",
    "dim = 2\n",
    "# obstacle type\n",
    "obstacle_type = 'horseshoe' # ball, semicircle, horseshoe\n",
    "# velocity dependent embedding\n",
    "velocity_embedding = True"
   ]
  },
  {
   "cell_type": "markdown",
   "id": "0c4b6370",
   "metadata": {},
   "source": [
    "## Torch Configuration"
   ]
  },
  {
   "cell_type": "code",
   "execution_count": 3,
   "id": "62f0ef27",
   "metadata": {},
   "outputs": [],
   "source": [
    "use_cuda = False # torch.cuda.is_available()\n",
    "device = torch.device(\"cuda\" if use_cuda else \"cpu\")"
   ]
  },
  {
   "cell_type": "markdown",
   "id": "f958c739",
   "metadata": {},
   "source": [
    "## Create Model"
   ]
  },
  {
   "cell_type": "code",
   "execution_count": 4,
   "id": "308ed34d",
   "metadata": {},
   "outputs": [],
   "source": [
    "num_neurons = [64]\n",
    "num_layers = 2\n",
    "approximator = FeedForward(dim, num_neurons*num_layers, 1)\n",
    "\n",
    "embedding = Embedding(approximator)\n",
    "TorchHelper.set_zero(embedding)\n",
    "\n",
    "stiffness = Spherical(1, False)\n",
    "dissipation = Spherical(2, False)\n",
    "\n",
    "attractor = torch.tensor([0.0,0.0]).to(device)\n",
    "\n",
    "model = SecondGeometry(embedding, attractor, stiffness, dissipation).to(device)"
   ]
  },
  {
   "cell_type": "markdown",
   "id": "8e026ea0",
   "metadata": {},
   "source": [
    "## Test"
   ]
  },
  {
   "cell_type": "code",
   "execution_count": 5,
   "id": "7bc1353d-8e0a-4b13-9cfd-46de94b1d32a",
   "metadata": {},
   "outputs": [],
   "source": [
    "if obstacle_type == 'ball':\n",
    "    obstacle_radius = 0.1\n",
    "    obstacle = torch.tensor([[-0.4,-0.4]])\n",
    "elif obstacle_type == 'square':\n",
    "    obstacle_radius = 0.05\n",
    "    obstacle = Obstacles.square(center=torch.tensor([-30,20]), a=20, b=20, res=10)\n",
    "elif obstacle_type == 'semicircle':\n",
    "    obstacle_radius = 0.05\n",
    "    obstacle = Obstacles.semi_circle(radius=0.2, center=torch.tensor([-0.4,   -0.4]), rot=torch.tensor(torch.pi/4), res=50, angle=torch.pi)\n",
    "elif obstacle_type == 'horseshoe':\n",
    "    obstacle_radius = 0.05\n",
    "    obstacle = Obstacles.semi_circle(radius=0.2, center=torch.tensor([-0.4,   -0.4]), rot=torch.tensor(torch.pi/2.2), res=50, angle=1.5*torch.pi)\n",
    "\n",
    "decay = 5e-1\n",
    "lengthscale = np.sqrt(-0.5*obstacle_radius**2/np.log(decay))\n",
    "embedding.local_deformation = KernelDeformation(obstacle.to(device), \n",
    "                        weights = 1.0*torch.ones(obstacle.shape[0]).to(device), \n",
    "                        kernel=SquaredExp(l=lengthscale), \n",
    "                        tolerance=0.05).to(device)\n",
    "\n",
    "model.velocity_embedding = True\n",
    "# model.field = LinearField(attractor, Spherical(1.0, False))\n",
    "# model.field_weight = 0.1\n",
    "\n",
    "model.harmonic_growth = 1e3\n",
    "model.harmonic_start = 0.001"
   ]
  },
  {
   "cell_type": "code",
   "execution_count": 6,
   "id": "e9242bf6",
   "metadata": {},
   "outputs": [],
   "source": [
    "resolution = 100\n",
    "min_ax = torch.tensor([-1,-1])\n",
    "max_ax = torch.tensor([1,1])\n",
    "x, y = torch.meshgrid(torch.linspace(min_ax[0], max_ax[0], resolution), torch.linspace(min_ax[1], max_ax[1], resolution), indexing='xy')\n",
    "grid_x = torch.stack((torch.ravel(x), torch.ravel(y)), dim=1).to(device).requires_grad_(True)\n",
    "grid_v = torch.zeros_like(grid_x).to(device).requires_grad_(True)\n",
    "grid_xr = torch.stack((torch.ravel(x[10::10,10::10]), torch.ravel(y[10::10,10::10])), dim=1).to(device).requires_grad_(True)\n",
    "grid_vr = torch.zeros_like(grid_xr).to(device).requires_grad_(True)\n",
    "theta = torch.linspace(0, 2*torch.pi, steps=50).to(device)"
   ]
  },
  {
   "cell_type": "markdown",
   "id": "b86475a8",
   "metadata": {},
   "source": [
    "### Potential"
   ]
  },
  {
   "cell_type": "code",
   "execution_count": 7,
   "id": "dec4af0d",
   "metadata": {},
   "outputs": [],
   "source": [
    "potential = model.potential(grid_x).reshape(resolution, -1).cpu().detach().numpy()"
   ]
  },
  {
   "cell_type": "code",
   "execution_count": 8,
   "id": "371d50a6",
   "metadata": {},
   "outputs": [],
   "source": [
    "mpl.rcParams.update(mpl.rcParamsDefault)\n",
    "fig, ax = plt.subplots(figsize=(7, 6))\n",
    "im = ax.contourf(x, y, potential, 500, cmap=\"viridis\")\n",
    "ax.contour(x, y, potential, 10, cmap=None, colors='#f2e68f')\n",
    "ax.scatter(attractor[0].cpu(), attractor[1].cpu(), s=400, edgecolors='k', c='yellow', marker=\"*\", zorder=20)\n",
    "colorbar(im, fig, ax, label='\\phi', size='8%')\n",
    "beautify(fig, ax)\n",
    "fig.savefig('../media/local_second_potential.png', format='png', dpi=100, bbox_inches=\"tight\")"
   ]
  },
  {
   "cell_type": "markdown",
   "id": "68161024",
   "metadata": {},
   "source": [
    "### Vector Field & Streamlines"
   ]
  },
  {
   "cell_type": "code",
   "execution_count": 9,
   "id": "c7578b4c",
   "metadata": {
    "scrolled": true
   },
   "outputs": [],
   "source": [
    "field = model(torch.cat((grid_x,grid_v),dim=1))\n",
    "x_field = field[:, 0].reshape(resolution, -1).cpu().detach().numpy()\n",
    "y_field = field[:, 1].reshape(resolution, -1).cpu().detach().numpy()\n",
    "x0 = torch.tensor([[-0.9, -0.85, 1, 1]]).to(device).requires_grad_(True)\n",
    "streamlines = Integrator.second_order(dynamics=model,x0=x0,T=15.0, dt=0.01).cpu().detach().numpy()\n",
    "geodesic = Integrator.second_order(dynamics=model.geodesic,x0=x0,T=10.0, dt=0.01).cpu().detach().numpy()\n",
    "deformation_map = embedding.local_deformation(grid_x).reshape(resolution, -1).cpu().detach().numpy()"
   ]
  },
  {
   "cell_type": "code",
   "execution_count": 10,
   "id": "f58596aa",
   "metadata": {},
   "outputs": [],
   "source": [
    "mpl.rcParams.update(mpl.rcParamsDefault)\n",
    "fig, ax = plt.subplots(figsize=(6, 6))\n",
    "cmap = colormap_left(\"Spectral_r\")\n",
    "im = ax.contourf(x, y, deformation_map, 500, cmap=cmap)\n",
    "# ax.streamplot(x.numpy(), y.numpy(), x_field, y_field, color=potential, cmap=\"viridis\", linewidth=1.5, arrowstyle='-', arrowsize=1.5)\n",
    "ax.scatter(attractor[0].cpu(), attractor[1].cpu(), s=400, edgecolors='k', c='yellow', marker=\"*\", zorder=10)\n",
    "for i in range(x0.shape[0]):\n",
    "    ax.plot(streamlines[:, i, 0], streamlines[:, i, 1], color='k', linewidth=3.5)\n",
    "    # ax.plot(geodesic[:, i, 0], geodesic[:, i, 1], color='k', linestyle='dashed', linewidth=2.5)\n",
    "if hasattr(embedding, 'local_deformation'):\n",
    "    for i in range(0,obstacle.shape[0],5):\n",
    "        circ = plt.Circle((obstacle[i, 0], obstacle[i, 1]), obstacle_radius,\n",
    "                            color='k', fill='grey', alpha=0.5)\n",
    "        ax.add_patch(circ)\n",
    "# colorbar(im, fig, ax, label=r'$\\psi$', size='8%')\n",
    "beautify(fig, ax)\n",
    "ax.set_xlim([min_ax[0].cpu(), max_ax[0].cpu()])\n",
    "ax.set_ylim([min_ax[1].cpu(), max_ax[1].cpu()])\n",
    "fig.savefig('../media/local_second_field.png', format='png', dpi=100, bbox_inches=\"tight\")"
   ]
  },
  {
   "cell_type": "markdown",
   "id": "4ba7ed48",
   "metadata": {},
   "source": [
    "### Embedding"
   ]
  },
  {
   "cell_type": "code",
   "execution_count": 11,
   "id": "ebde3abf",
   "metadata": {
    "scrolled": true
   },
   "outputs": [],
   "source": [
    "grid_embedding = embedding(grid_x)\n",
    "x_embedding = grid_embedding[:, 0].reshape(resolution, -1).cpu().detach().numpy()\n",
    "y_embedding = grid_embedding[:, 1].reshape(resolution, -1).cpu().detach().numpy()\n",
    "z_embedding = grid_embedding[:, 2].reshape(resolution, -1).cpu().detach().numpy()\n",
    "test_embedding = []\n",
    "for i in range(x0.shape[0]):\n",
    "    test_embedding.append(embedding(torch.from_numpy(geodesic[:,i,:dim]).float().to(device).requires_grad_(True)).cpu().detach().numpy())\n",
    "attractor_embedding = embedding(attractor.unsqueeze(0)).squeeze().cpu().detach().numpy()"
   ]
  },
  {
   "cell_type": "code",
   "execution_count": 12,
   "id": "4afc035c",
   "metadata": {},
   "outputs": [],
   "source": [
    "fig = plt.figure(figsize=(6, 6))\n",
    "ax = fig.add_subplot(111, projection=\"3d\", computed_zorder=False)\n",
    "# norm = plt.Normalize(vmin=potential.min(), vmax=potential.max())\n",
    "# colors = plt.cm.viridis(norm(potential))\n",
    "im = ax.plot_surface(x_embedding, y_embedding, z_embedding, cmap=cmap, edgecolor='none', antialiased=True, alpha=0.8) #  facecolors=colors\n",
    "for traj in test_embedding:\n",
    "    ax.plot(traj[:, 0], traj[:, 1], traj[:, 2], color='k', linewidth=3.0)\n",
    "ax.scatter(attractor_embedding[0], attractor_embedding[1], attractor_embedding[2], s=400, edgecolors='k', c='yellow', marker=\"*\", zorder=10)\n",
    "ax.axis('off')\n",
    "ax.view_init(elev=30, azim=-100)\n",
    "fig.patch.set_visible(False)\n",
    "fig.tight_layout()\n",
    "# mappable = plt.cm.ScalarMappable(cmap=plt.cm.viridis, norm=norm)\n",
    "# cbar = fig.colorbar(mappable, ax=ax, shrink=0.8, aspect=11)\n",
    "# cbar.set_label('$\\phi$', fontsize=24, rotation=0, labelpad=10)\n",
    "# cbar.ax.set_yticklabels([])\n",
    "# cbar.ax.tick_params(length=0)\n",
    "# cbar.outline.set_visible(False)  # Remove colorbar frame\n",
    "fig.savefig('../media/local_second_embedding.png', format='png', dpi=100, bbox_inches=\"tight\")"
   ]
  },
  {
   "cell_type": "markdown",
   "id": "c1479ab7",
   "metadata": {},
   "source": [
    "### Metric"
   ]
  },
  {
   "cell_type": "code",
   "execution_count": 13,
   "id": "33fbd042",
   "metadata": {
    "scrolled": true
   },
   "outputs": [],
   "source": [
    "metric = model.embedding.pullmetric(grid_embedding, model.embedding.jacobian(grid_x, grid_embedding))\n",
    "det_metric = metric.det().reshape(resolution, -1).detach().cpu().numpy()\n",
    "red_embedding = embedding(grid_xr)\n",
    "metric_r = embedding.pullmetric(red_embedding, embedding.jacobian(grid_xr, red_embedding))\n",
    "evals,evecs = torch.linalg.eigh(metric_r)\n",
    "evals /= 1e6\n",
    "ellipses = torch.stack((evals[:, 0].unsqueeze(-1)*theta.cos(), evals[:, 1].unsqueeze(-1)*theta.sin()), dim=2)\n",
    "ellipses = torch.bmm(evecs, ellipses.permute(0, 2, 1)).permute(0, 2, 1).detach().cpu()\n",
    "ellipses_x = x[10::10,10::10].ravel().unsqueeze(-1) + ellipses[:, :, 0]\n",
    "ellipses_y = y[10::10,10::10].ravel().unsqueeze(-1) + ellipses[:, :, 1]"
   ]
  },
  {
   "cell_type": "code",
   "execution_count": 14,
   "id": "d1b2a563",
   "metadata": {},
   "outputs": [],
   "source": [
    "fig, ax = plt.subplots(figsize=(7, 6))\n",
    "im = ax.contourf(x, y, det_metric, 500, cmap=\"afmhot_r\")\n",
    "ax.scatter(x[10::10, 10::10], y[10::10, 10::10], color=\"k\", s=5)\n",
    "for i in range(ellipses.shape[0]):\n",
    "    ax.plot(ellipses_x[i, :], ellipses_y[i, :], color=\"k\", linewidth=1.5, alpha=0.8)\n",
    "colorbar(im, fig, ax, label='|G|', size='8%')\n",
    "beautify(fig, ax)\n",
    "fig.savefig('../media/local_second_detmetric.png', format='png', dpi=100, bbox_inches=\"tight\")"
   ]
  },
  {
   "cell_type": "markdown",
   "id": "ad0a97c7",
   "metadata": {},
   "source": [
    "### Inverse Metric Ellispses on Streamlines"
   ]
  },
  {
   "cell_type": "code",
   "execution_count": 15,
   "id": "0293825f",
   "metadata": {},
   "outputs": [],
   "source": [
    "trajectory = streamlines # streamlines, geodesic\n",
    "x_sampled = torch.from_numpy(trajectory[:, 0, :dim]).float().to(device).requires_grad_(True)\n",
    "v_sampled = torch.from_numpy(trajectory[:, 0, dim:]).float().to(device).requires_grad_(True)\n",
    "sampled_embedding = embedding(x_sampled)\n",
    "metric_sampled = model.embedding.pullmetric(sampled_embedding, model.embedding.jacobian(x_sampled, sampled_embedding))\n",
    "metric_evals,metric_evecs = torch.linalg.eigh(metric_sampled.inverse())\n",
    "x_range = (max_ax[0] - min_ax[0]).abs()\n",
    "y_range = (max_ax[1] - min_ax[1]).abs()\n",
    "metric_evals /= 10\n",
    "metric_ellipses = torch.stack((metric_evals[:, 0].unsqueeze(-1)*theta.cos(), metric_evals[:, 1].unsqueeze(-1)*theta.sin()), dim=2)\n",
    "metric_ellipses = torch.bmm(metric_evecs, metric_ellipses.permute(0, 2, 1)).permute(0, 2, 1).detach().cpu()\n",
    "step_metric = 150"
   ]
  },
  {
   "cell_type": "code",
   "execution_count": 16,
   "id": "9b85e929",
   "metadata": {},
   "outputs": [],
   "source": [
    "fig, ax = plt.subplots(figsize=(6, 6))\n",
    "ax.plot(x_sampled[:, 0].detach().cpu(), x_sampled[:, 1].detach().cpu(), color='r', linewidth='3')\n",
    "ax.scatter(x_sampled[::step_metric, 0].detach().cpu(), x_sampled[::step_metric, 1].detach().cpu(), color=\"k\", s=15, zorder=10)\n",
    "for i in range(0, metric_ellipses.shape[0], step_metric):\n",
    "    ax.plot(x_sampled[i, 0].detach().cpu() + metric_ellipses[i, :, 0],\n",
    "            x_sampled[i, 1].detach().cpu() + metric_ellipses[i, :, 1], color=\"k\", linewidth=1.5)\n",
    "ax.scatter(attractor[0].cpu(), attractor[1].cpu(), s=400, edgecolors='k', c='yellow', marker=\"*\", zorder=20)\n",
    "if hasattr(embedding, 'local_deformation'):\n",
    "    for i in range(0,obstacle.shape[0],5):\n",
    "        circ = plt.Circle((obstacle[i, 0], obstacle[i, 1]), obstacle_radius,\n",
    "                            color='k', fill='grey', alpha=0.5)\n",
    "        ax.add_patch(circ)\n",
    "beautify(fig, ax)\n",
    "fig.savefig('../media/local_second_invmetric.png', format='png', dpi=100, bbox_inches=\"tight\")"
   ]
  },
  {
   "cell_type": "markdown",
   "id": "5d4c1661",
   "metadata": {},
   "source": [
    "### Christoffel Symbols"
   ]
  },
  {
   "cell_type": "code",
   "execution_count": 17,
   "id": "0c98f587",
   "metadata": {},
   "outputs": [],
   "source": [
    "christoffel_sampled = embedding.christoffel(x_sampled, metric_sampled)\n",
    "christoffel_sampled = torch.einsum('bqij,bi->bqj', christoffel_sampled, v_sampled)\n",
    "christoffel_evals,christoffel_evecs = torch.linalg.eig(christoffel_sampled)\n",
    "christoffel_evals = torch.real(christoffel_evals)\n",
    "christoffel_evecs = torch.real(christoffel_evecs)\n",
    "christoffel_evals /= 10\n",
    "christoffel_ellipses = torch.stack((christoffel_evals[:, 0].unsqueeze(-1)*theta.cos(), christoffel_evals[:, 1].unsqueeze(-1)*theta.sin()), dim=2)\n",
    "christoffel_ellipses = torch.bmm(christoffel_evecs, christoffel_ellipses.permute(0, 2, 1)).permute(0, 2, 1).detach().cpu()\n",
    "step_christoffel = 150"
   ]
  },
  {
   "cell_type": "code",
   "execution_count": 18,
   "id": "b21891f0",
   "metadata": {},
   "outputs": [],
   "source": [
    "fig, ax = plt.subplots(figsize=(6, 6))\n",
    "ax.plot(x_sampled[:, 0].detach().cpu(), x_sampled[:, 1].detach().cpu(), color='r', linewidth='3')\n",
    "ax.scatter(x_sampled[::step_christoffel, 0].detach().cpu(), x_sampled[::step_christoffel, 1].detach().cpu(), color=\"k\", s=15, zorder=10)\n",
    "for i in range(0,christoffel_ellipses.shape[0],step_christoffel):\n",
    "    ax.plot(x_sampled[i, 0].detach().cpu() + christoffel_ellipses[i, :, 0],\n",
    "            x_sampled[i, 1].detach().cpu() + christoffel_ellipses[i, :, 1], color=\"k\", linewidth=1.5)\n",
    "ax.scatter(attractor[0].cpu(), attractor[1].cpu(), s=400, edgecolors='k', c='yellow', marker=\"*\", zorder=20)\n",
    "if hasattr(embedding, 'local_deformation'):\n",
    "    for i in range(0,obstacle.shape[0],5):\n",
    "        circ = plt.Circle((obstacle[i, 0], obstacle[i, 1]), obstacle_radius,\n",
    "                            color='k', fill='grey', alpha=0.5)\n",
    "        ax.add_patch(circ)\n",
    "beautify(fig, ax)\n",
    "fig.savefig('../media/local_second_christoffel.png', format='png', dpi=100, bbox_inches=\"tight\")"
   ]
  },
  {
   "cell_type": "code",
   "execution_count": 19,
   "id": "426ab785",
   "metadata": {},
   "outputs": [
    {
     "data": {
      "application/vnd.jupyter.widget-view+json": {
       "model_id": "04ff350566f8421cb52196ae60a32ff1",
       "version_major": 2,
       "version_minor": 0
      },
      "image/png": "[encoded data removed]",
      "text/html": [
       "\n",
       "            <div style=\"display: inline-block;\">\n",
       "                <div class=\"jupyter-widgets widget-label\" style=\"text-align: center;\">\n",
       "                    Figure 6\n",
       "                </div>\n",
       "                <img src='data:image/png;base64,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' width=600.0/>\n",
       "            </div>\n",
       "        "
      ],
      "text/plain": [
       "Canvas(toolbar=Toolbar(toolitems=[('Home', 'Reset original view', 'home', 'home'), ('Back', 'Back to previous …"
      ]
     },
     "metadata": {},
     "output_type": "display_data"
    }
   ],
   "source": [
    "plt.show()"
   ]
  },
  {
   "cell_type": "code",
   "execution_count": null,
   "id": "1e0c3237",
   "metadata": {},
   "outputs": [],
   "source": []
  }
 ],
 "metadata": {
  "kernelspec": {
   "display_name": "Python 3 (ipykernel)",
   "language": "python",
   "name": "python3"
  },
  "language_info": {
   "codemirror_mode": {
    "name": "ipython",
    "version": 3
   },
   "file_extension": ".py",
   "mimetype": "text/x-python",
   "name": "python",
   "nbconvert_exporter": "python",
   "pygments_lexer": "ipython3",
   "version": "3.10.13"
  }
 },
 "nbformat": 4,
 "nbformat_minor": 5
}
