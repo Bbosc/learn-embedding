{
 "cells": [
  {
   "cell_type": "code",
   "execution_count": 1,
   "id": "b9baff77",
   "metadata": {},
   "outputs": [],
   "source": [
    "import os\n",
    "from importlib.resources import files\n",
    "import time\n",
    "\n",
    "import numpy as np\n",
    "import torch\n",
    "%matplotlib widget\n",
    "import matplotlib\n",
    "import matplotlib.pyplot as plt\n",
    "\n",
    "from fastdtw import fastdtw\n",
    "from scipy.spatial.distance import euclidean\n",
    "# from scipy.spatial.distance import cosine\n",
    "# from sklearn.metrics.pairwise import cosine_similarity\n",
    "from learn_embedding.utils.soft_dtw_cuda import SoftDTW\n",
    "from dtaidistance import dtw_ndim\n",
    "\n",
    "from learn_embedding.approximators import *\n",
    "from learn_embedding.covariances import *\n",
    "from learn_embedding.kernels import SquaredExp\n",
    "from learn_embedding.embedding import Embedding\n",
    "from learn_embedding.dynamics import FirstGeometry, SecondGeometry\n",
    "from learn_embedding.utils import *\n",
    "from learn_embedding.loss import *"
   ]
  },
  {
   "cell_type": "code",
   "execution_count": 2,
   "id": "f239ae77",
   "metadata": {},
   "outputs": [],
   "source": [
    "dim = 2\n",
    "num_traj = 7  # Number of trajectories\n",
    "num_samples = 1000  # Desired number of samples per trajectory\n",
    "split = int(np.round(num_traj*0.6))\n",
    "\n",
    "use_cuda = torch.cuda.is_available()\n",
    "device = torch.device(\"cuda\" if use_cuda else \"cpu\")"
   ]
  },
  {
   "cell_type": "code",
   "execution_count": 3,
   "id": "53b7d7cd",
   "metadata": {
    "scrolled": true
   },
   "outputs": [],
   "source": [
    "data_x = []\n",
    "data_y = []\n",
    "\n",
    "data_x_red = []\n",
    "data_y_red = []\n",
    "\n",
    "for i in range(1, num_traj+1):\n",
    "    # Load trajectory data\n",
    "    data = np.loadtxt(\"../learn_embedding/data/toycase/trajectory_\" + str(i) + \".csv\")\n",
    "    data_red = np.loadtxt(\"../learn_embedding/data/toycase/trajectory_\" + str(i) + \"_red.csv\")\n",
    "    \n",
    "    # remove last point\n",
    "    data = data[:-1,:]\n",
    "    data_red = data_red[:-1,:]\n",
    "    \n",
    "    # subsample\n",
    "    idx = DataProcess.subsample(data[:,:2], num_samples)\n",
    "    \n",
    "    # center\n",
    "    data[idx,:2] -= data[-1,:2]\n",
    "    data_red[:,:2] -= data_red[-1,:2]\n",
    "    \n",
    "    # zero velocity last sample\n",
    "    data[-1,2:4] = np.zeros(2)\n",
    "    data_red[-1,2:4] = np.zeros(2)\n",
    "    \n",
    "    # zero acceleration last sample\n",
    "    data[-1,-2:] = np.zeros(2)\n",
    "    data_red[-1,-2:] = np.zeros(2)\n",
    "    \n",
    "    # add to datset\n",
    "    data_x.append(data[idx,:4])\n",
    "    data_y.append(data[idx,-2:])\n",
    "    data_x_red.append(data_red[:,:4])\n",
    "    data_y_red.append(data_red[:,-2:])"
   ]
  },
  {
   "cell_type": "code",
   "execution_count": 4,
   "id": "33331cce",
   "metadata": {
    "scrolled": true
   },
   "outputs": [
    {
     "name": "stdout",
     "output_type": "stream",
     "text": [
      "SoftDTW: Cannot use CUDA because the sequence length > 1024 (the maximum block size supported by CUDA)\n"
     ]
    },
    {
     "name": "stderr",
     "output_type": "stream",
     "text": [
      "/home/bernardo/.local/lib/python3.10/site-packages/numba/np/ufunc/parallel.py:371: NumbaWarning: \u001b[1mThe TBB threading layer requires TBB version 2021 update 6 or later i.e., TBB_INTERFACE_VERSION >= 12060. Found TBB_INTERFACE_VERSION = 12050. The TBB threading layer is disabled.\u001b[0m\n",
      "  warnings.warn(problem)\n"
     ]
    },
    {
     "name": "stdout",
     "output_type": "stream",
     "text": [
      "SoftDTW: Cannot use CUDA because the sequence length > 1024 (the maximum block size supported by CUDA)\n",
      "SoftDTW: Cannot use CUDA because the sequence length > 1024 (the maximum block size supported by CUDA)\n",
      "SoftDTW: Cannot use CUDA because the sequence length > 1024 (the maximum block size supported by CUDA)\n",
      "SoftDTW: Cannot use CUDA because the sequence length > 1024 (the maximum block size supported by CUDA)\n",
      "SoftDTW: Cannot use CUDA because the sequence length > 1024 (the maximum block size supported by CUDA)\n",
      "SoftDTW: Cannot use CUDA because the sequence length > 1024 (the maximum block size supported by CUDA)\n",
      "SoftDTW: Cannot use CUDA because the sequence length > 1024 (the maximum block size supported by CUDA)\n",
      "SoftDTW: Cannot use CUDA because the sequence length > 1024 (the maximum block size supported by CUDA)\n",
      "Iter:  0 Time:  17.48220467567444 Loss:  0.001002033706754446 RMSE:  0.022502152249217033 Cosine:  0.0005185578484088182 SDTW:  6.51995849609375 DTW:  1.7711278200149536 FDTW:  74.06057739257812\n"
     ]
    }
   ],
   "source": [
    "reps = 1\n",
    "num_epochs = 1000\n",
    "dt = 0.01\n",
    "T = 20.0\n",
    "\n",
    "cosine_similarity = torch.nn.CosineSimilarity(dim=1, eps=1e-6)\n",
    "sdtw = SoftDTW(use_cuda=use_cuda, gamma=0.01)\n",
    "\n",
    "time_log = torch.zeros(reps).to(device)\n",
    "loss_log = torch.zeros(reps).to(device)\n",
    "\n",
    "rmse_log = torch.zeros(reps).to(device)\n",
    "cos_log = torch.zeros(reps).to(device)\n",
    "sdtw_log = torch.zeros(reps).to(device)\n",
    "dtw_log = torch.zeros(reps).to(device)\n",
    "fdtw_log = torch.zeros(reps).to(device)\n",
    "\n",
    "for k in range(reps):\n",
    "    idx = np.random.permutation(num_traj)\n",
    "    \n",
    "    train_x = np.empty((0, 4))\n",
    "    train_y = np.empty((0, 2))\n",
    "    \n",
    "    for i in idx[:split]:\n",
    "        train_x = np.append(train_x, data_x[i], axis=0)\n",
    "        train_y = np.append(train_y, data_y[i], axis=0)\n",
    "        \n",
    "    train_x = torch.from_numpy(train_x).float().to(device).requires_grad_(True)\n",
    "    train_y = torch.from_numpy(train_y).float().to(device)\n",
    "\n",
    "    model = SecondGeometry(Embedding(FeedForward(dim, [64]*2, 1)), torch.tensor([0.0,0.0]).to(device), SPD(dim), SPD(dim)).to(device)\n",
    "    \n",
    "    optimizer = torch.optim.Adam(model.parameters(), lr=1e-2, weight_decay=1e-6)\n",
    "    scheduler = torch.optim.lr_scheduler.ReduceLROnPlateau(optimizer, mode='min', factor=0.5, patience=200, \n",
    "                                                           threshold=1e-3, threshold_mode='rel', cooldown=0, \n",
    "                                                           min_lr=0, eps=1e-8, verbose=True)\n",
    "    loss_fun = torch.nn.MSELoss()\n",
    "    \n",
    "    t0 = time.time()\n",
    "    for epoch in range(num_epochs):\n",
    "        optimizer.zero_grad()\n",
    "        pred = model(train_x)\n",
    "        loss = loss_fun(pred,train_y)\n",
    "        loss.backward()\n",
    "        optimizer.step()\n",
    "#         scheduler.step(loss)\n",
    "    train_time = time.time()-t0\n",
    "    \n",
    "    loss_log[k] = loss.item()\n",
    "    time_log[k] = train_time\n",
    "    \n",
    "    for i in idx[split:]:\n",
    "        test_x = torch.from_numpy(data_x_red[i]).float().to(device).requires_grad_(True)\n",
    "        test_y = torch.from_numpy(data_y_red[i]).float().to(device)\n",
    "        \n",
    "        x0 = test_x[0,:].unsqueeze(0)\n",
    "        streamline = Integrator.second_order(dynamics=model,x0=x0,T=T, dt=dt)[:,0,:]\n",
    "        output = (test_x[:-1, 2:] + dt*model(test_x[:-1, :])).detach()\n",
    "        \n",
    "        rmse_log[k] += (output-test_x[1:, 2:].detach()).square().sum().mean().sqrt()/(num_traj-split)\n",
    "        cos_log[k] += (1 - cosine_similarity(output, test_x[1:, 2:].detach())).mean()/(num_traj-split)\n",
    "        \n",
    "        series_1 = streamline[:,:2].detach()\n",
    "        series_2 = test_x[:,:2].detach()\n",
    "        sdtw_log[k] += (\n",
    "            sdtw(series_1.unsqueeze(0), series_2.unsqueeze(0)) \n",
    "            -0.5*(sdtw(series_1.unsqueeze(0), series_1.unsqueeze(0)) + sdtw(series_2.unsqueeze(0), series_2.unsqueeze(0)))\n",
    "        ).detach().squeeze()/(num_traj-split)\n",
    "        \n",
    "        series_1 = series_1.cpu().numpy()\n",
    "        series_2 = series_2.cpu().numpy()\n",
    "        dtw_log[k] += torch.tensor(dtw_ndim.distance(series_1, series_2)/(num_traj-split)).to(device)\n",
    "        fdtw_log[k] += torch.tensor(fastdtw(series_1, series_2, dist=euclidean)[0]/(num_traj-split)).to(device)\n",
    "    \n",
    "    print(\"Iter: \", k, \"Time: \", train_time, \"Loss: \", loss.item(), \"RMSE: \", rmse_log[k].item(), \"Cosine: \", cos_log[k].item(), \"SDTW: \", sdtw_log[k].item(),\n",
    "         \"DTW: \", dtw_log[k].item(), \"FDTW: \", fdtw_log[k].item())   "
   ]
  },
  {
   "cell_type": "code",
   "execution_count": 5,
   "id": "8a9bfbac",
   "metadata": {},
   "outputs": [
    {
     "data": {
      "text/plain": [
       "tensor(0.0107, device='cuda:0', grad_fn=<DivBackward0>)"
      ]
     },
     "execution_count": 5,
     "metadata": {},
     "output_type": "execute_result"
    }
   ],
   "source": [
    "(output-test_x[1:, 2:]).square().sum().mean().sqrt()/(num_traj-split)"
   ]
  },
  {
   "cell_type": "code",
   "execution_count": 6,
   "id": "982bcf93",
   "metadata": {},
   "outputs": [
    {
     "data": {
      "application/vnd.jupyter.widget-view+json": {
       "model_id": "edb80605d3b149dca2e67caad16b45e0",
       "version_major": 2,
       "version_minor": 0
      },
      "image/png": "[encoded data removed]",
      "text/html": [
       "\n",
       "            <div style=\"display: inline-block;\">\n",
       "                <div class=\"jupyter-widgets widget-label\" style=\"text-align: center;\">\n",
       "                    Figure\n",
       "                </div>\n",
       "                <img src='data:image/png;base64,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' width=600.0/>\n",
       "            </div>\n",
       "        "
      ],
      "text/plain": [
       "Canvas(toolbar=Toolbar(toolitems=[('Home', 'Reset original view', 'home', 'home'), ('Back', 'Back to previous …"
      ]
     },
     "metadata": {},
     "output_type": "display_data"
    }
   ],
   "source": [
    "data = [rmse_log.cpu(), dtw_log.cpu(), cos_log.cpu()]\n",
    "green_diamond = dict(markerfacecolor='g', marker='D')\n",
    "\n",
    "# Enable LaTeX rendering\n",
    "plt.rcParams['text.usetex'] = True\n",
    "\n",
    "# Set Times as the font family\n",
    "plt.rcParams['font.family'] = 'Times'\n",
    "\n",
    "# Create the figure and axes\n",
    "fig, ax = plt.subplots(figsize=(6, 6))\n",
    "\n",
    "# Customize the box plot\n",
    "boxprops = dict(linewidth=2, color='black', facecolor='lightgray')\n",
    "medianprops = dict(linewidth=2, color='red')\n",
    "whiskerprops = dict(linewidth=2, color='black')\n",
    "capprops = dict(linewidth=2, color='black')\n",
    "flierprops = green_diamond\n",
    "\n",
    "boxplot = ax.boxplot(data, boxprops=boxprops, medianprops=medianprops, whiskerprops=whiskerprops,\n",
    "           capprops=capprops, flierprops=flierprops, patch_artist=True)\n",
    "\n",
    "# Define a list of colors\n",
    "colors = ['lightblue', 'lightgreen', 'lightyellow']\n",
    "\n",
    "# Add color to the box plot elements\n",
    "for patch, color in zip(boxplot['boxes'], colors):\n",
    "    # Change the fill color of the boxes\n",
    "    patch.set_facecolor(color)\n",
    "\n",
    "# Customize the x-axis ticks and labels\n",
    "plt.xticks([1, 2, 3], ['RMSE', 'DTWD', 'CS'], fontsize=32)\n",
    "plt.yticks(fontsize=28)\n",
    "# plt.xlabel('Metrics')\n",
    "\n",
    "# Add a title and y-axis label if needed\n",
    "# plt.title('Comparison of Metrics')\n",
    "# plt.ylabel('Metric Values')\n",
    "\n",
    "# Adjust the plot layout if needed\n",
    "plt.tight_layout()\n",
    "\n",
    "fig.savefig('../outputs/evaluation_learning_second.png', format='png', dpi=300, bbox_inches=\"tight\")"
   ]
  },
  {
   "cell_type": "code",
   "execution_count": 7,
   "id": "33602a5a",
   "metadata": {},
   "outputs": [
    {
     "ename": "OutOfMemoryError",
     "evalue": "CUDA out of memory. Tried to allocate 2.00 MiB (GPU 0; 7.78 GiB total capacity; 875.73 MiB already allocated; 43.75 MiB free; 882.00 MiB reserved in total by PyTorch) If reserved memory is >> allocated memory try setting max_split_size_mb to avoid fragmentation.  See documentation for Memory Management and PYTORCH_CUDA_ALLOC_CONF",
     "output_type": "error",
     "traceback": [
      "\u001b[0;31m---------------------------------------------------------------------------\u001b[0m",
      "\u001b[0;31mOutOfMemoryError\u001b[0m                          Traceback (most recent call last)",
      "\u001b[0;32m/tmp/ipykernel_65609/1747461439.py\u001b[0m in \u001b[0;36m<module>\u001b[0;34m\u001b[0m\n\u001b[1;32m     21\u001b[0m \u001b[0mx0\u001b[0m \u001b[0;34m=\u001b[0m \u001b[0mtorch\u001b[0m\u001b[0;34m.\u001b[0m\u001b[0mfrom_numpy\u001b[0m\u001b[0;34m(\u001b[0m\u001b[0mx0\u001b[0m\u001b[0;34m)\u001b[0m\u001b[0;34m.\u001b[0m\u001b[0mfloat\u001b[0m\u001b[0;34m(\u001b[0m\u001b[0;34m)\u001b[0m\u001b[0;34m.\u001b[0m\u001b[0mto\u001b[0m\u001b[0;34m(\u001b[0m\u001b[0mdevice\u001b[0m\u001b[0;34m)\u001b[0m\u001b[0;34m.\u001b[0m\u001b[0mrequires_grad_\u001b[0m\u001b[0;34m(\u001b[0m\u001b[0;32mTrue\u001b[0m\u001b[0;34m)\u001b[0m\u001b[0;34m\u001b[0m\u001b[0;34m\u001b[0m\u001b[0m\n\u001b[1;32m     22\u001b[0m \u001b[0;34m\u001b[0m\u001b[0m\n\u001b[0;32m---> 23\u001b[0;31m \u001b[0mstreamlines\u001b[0m \u001b[0;34m=\u001b[0m \u001b[0mIntegrator\u001b[0m\u001b[0;34m.\u001b[0m\u001b[0msecond_order\u001b[0m\u001b[0;34m(\u001b[0m\u001b[0mdynamics\u001b[0m\u001b[0;34m=\u001b[0m\u001b[0mmodel\u001b[0m\u001b[0;34m,\u001b[0m\u001b[0mx0\u001b[0m\u001b[0;34m=\u001b[0m\u001b[0mx0\u001b[0m\u001b[0;34m,\u001b[0m\u001b[0mT\u001b[0m\u001b[0;34m=\u001b[0m\u001b[0mT\u001b[0m\u001b[0;34m,\u001b[0m \u001b[0mdt\u001b[0m\u001b[0;34m=\u001b[0m\u001b[0mdt\u001b[0m\u001b[0;34m)\u001b[0m\u001b[0;34m.\u001b[0m\u001b[0mcpu\u001b[0m\u001b[0;34m(\u001b[0m\u001b[0;34m)\u001b[0m\u001b[0;34m.\u001b[0m\u001b[0mdetach\u001b[0m\u001b[0;34m(\u001b[0m\u001b[0;34m)\u001b[0m\u001b[0;34m.\u001b[0m\u001b[0mnumpy\u001b[0m\u001b[0;34m(\u001b[0m\u001b[0;34m)\u001b[0m\u001b[0;34m\u001b[0m\u001b[0;34m\u001b[0m\u001b[0m\n\u001b[0m",
      "\u001b[0;32m~/.local/lib/python3.10/site-packages/learn_embedding/utils/integrator.py\u001b[0m in \u001b[0;36msecond_order\u001b[0;34m(dynamics, x0, T, dt)\u001b[0m\n\u001b[1;32m     26\u001b[0m \u001b[0;34m\u001b[0m\u001b[0m\n\u001b[1;32m     27\u001b[0m         \u001b[0;32mfor\u001b[0m \u001b[0mi\u001b[0m \u001b[0;32min\u001b[0m \u001b[0mrange\u001b[0m\u001b[0;34m(\u001b[0m\u001b[0msteps\u001b[0m\u001b[0;34m-\u001b[0m\u001b[0;36m1\u001b[0m\u001b[0;34m)\u001b[0m\u001b[0;34m:\u001b[0m\u001b[0;34m\u001b[0m\u001b[0;34m\u001b[0m\u001b[0m\n\u001b[0;32m---> 28\u001b[0;31m             \u001b[0mx\u001b[0m\u001b[0;34m[\u001b[0m\u001b[0mi\u001b[0m\u001b[0;34m+\u001b[0m\u001b[0;36m1\u001b[0m\u001b[0;34m,\u001b[0m \u001b[0;34m:\u001b[0m\u001b[0;34m,\u001b[0m \u001b[0mdim\u001b[0m\u001b[0;34m:\u001b[0m\u001b[0;34m]\u001b[0m \u001b[0;34m=\u001b[0m \u001b[0mx\u001b[0m\u001b[0;34m[\u001b[0m\u001b[0mi\u001b[0m\u001b[0;34m,\u001b[0m \u001b[0;34m:\u001b[0m\u001b[0;34m,\u001b[0m \u001b[0mdim\u001b[0m\u001b[0;34m:\u001b[0m\u001b[0;34m]\u001b[0m \u001b[0;34m+\u001b[0m \u001b[0mdynamics\u001b[0m\u001b[0;34m(\u001b[0m\u001b[0mx\u001b[0m\u001b[0;34m[\u001b[0m\u001b[0mi\u001b[0m\u001b[0;34m,\u001b[0m \u001b[0;34m:\u001b[0m\u001b[0;34m,\u001b[0m \u001b[0;34m:\u001b[0m\u001b[0;34m]\u001b[0m\u001b[0;34m)\u001b[0m\u001b[0;34m*\u001b[0m\u001b[0mdt\u001b[0m\u001b[0;34m\u001b[0m\u001b[0;34m\u001b[0m\u001b[0m\n\u001b[0m\u001b[1;32m     29\u001b[0m             \u001b[0mx\u001b[0m\u001b[0;34m[\u001b[0m\u001b[0mi\u001b[0m\u001b[0;34m+\u001b[0m\u001b[0;36m1\u001b[0m\u001b[0;34m,\u001b[0m \u001b[0;34m:\u001b[0m\u001b[0;34m,\u001b[0m \u001b[0;34m:\u001b[0m\u001b[0mdim\u001b[0m\u001b[0;34m]\u001b[0m \u001b[0;34m=\u001b[0m \u001b[0mx\u001b[0m\u001b[0;34m[\u001b[0m\u001b[0mi\u001b[0m\u001b[0;34m,\u001b[0m \u001b[0;34m:\u001b[0m\u001b[0;34m,\u001b[0m \u001b[0;34m:\u001b[0m\u001b[0mdim\u001b[0m\u001b[0;34m]\u001b[0m \u001b[0;34m+\u001b[0m \u001b[0mx\u001b[0m\u001b[0;34m[\u001b[0m\u001b[0mi\u001b[0m\u001b[0;34m+\u001b[0m\u001b[0;36m1\u001b[0m\u001b[0;34m,\u001b[0m \u001b[0;34m:\u001b[0m\u001b[0;34m,\u001b[0m \u001b[0mdim\u001b[0m\u001b[0;34m:\u001b[0m\u001b[0;34m]\u001b[0m\u001b[0;34m*\u001b[0m\u001b[0mdt\u001b[0m\u001b[0;34m\u001b[0m\u001b[0;34m\u001b[0m\u001b[0m\n\u001b[1;32m     30\u001b[0m \u001b[0;34m\u001b[0m\u001b[0m\n",
      "\u001b[0;32m~/.local/lib/python3.10/site-packages/torch/nn/modules/module.py\u001b[0m in \u001b[0;36m_call_impl\u001b[0;34m(self, *input, **kwargs)\u001b[0m\n\u001b[1;32m   1188\u001b[0m         if not (self._backward_hooks or self._forward_hooks or self._forward_pre_hooks or _global_backward_hooks\n\u001b[1;32m   1189\u001b[0m                 or _global_forward_hooks or _global_forward_pre_hooks):\n\u001b[0;32m-> 1190\u001b[0;31m             \u001b[0;32mreturn\u001b[0m \u001b[0mforward_call\u001b[0m\u001b[0;34m(\u001b[0m\u001b[0;34m*\u001b[0m\u001b[0minput\u001b[0m\u001b[0;34m,\u001b[0m \u001b[0;34m**\u001b[0m\u001b[0mkwargs\u001b[0m\u001b[0;34m)\u001b[0m\u001b[0;34m\u001b[0m\u001b[0;34m\u001b[0m\u001b[0m\n\u001b[0m\u001b[1;32m   1191\u001b[0m         \u001b[0;31m# Do not call functions when jit is used\u001b[0m\u001b[0;34m\u001b[0m\u001b[0;34m\u001b[0m\u001b[0m\n\u001b[1;32m   1192\u001b[0m         \u001b[0mfull_backward_hooks\u001b[0m\u001b[0;34m,\u001b[0m \u001b[0mnon_full_backward_hooks\u001b[0m \u001b[0;34m=\u001b[0m \u001b[0;34m[\u001b[0m\u001b[0;34m]\u001b[0m\u001b[0;34m,\u001b[0m \u001b[0;34m[\u001b[0m\u001b[0;34m]\u001b[0m\u001b[0;34m\u001b[0m\u001b[0;34m\u001b[0m\u001b[0m\n",
      "\u001b[0;32m~/.local/lib/python3.10/site-packages/learn_embedding/dynamics/second_geometry.py\u001b[0m in \u001b[0;36mforward\u001b[0;34m(self, x)\u001b[0m\n\u001b[1;32m     45\u001b[0m         \u001b[0mvel\u001b[0m \u001b[0;34m=\u001b[0m \u001b[0mx\u001b[0m\u001b[0;34m[\u001b[0m\u001b[0;34m:\u001b[0m\u001b[0;34m,\u001b[0m \u001b[0mint\u001b[0m\u001b[0;34m(\u001b[0m\u001b[0mx\u001b[0m\u001b[0;34m.\u001b[0m\u001b[0mshape\u001b[0m\u001b[0;34m[\u001b[0m\u001b[0;36m1\u001b[0m\u001b[0;34m]\u001b[0m\u001b[0;34m/\u001b[0m\u001b[0;36m2\u001b[0m\u001b[0;34m)\u001b[0m\u001b[0;34m:\u001b[0m\u001b[0;34m]\u001b[0m\u001b[0;34m\u001b[0m\u001b[0;34m\u001b[0m\u001b[0m\n\u001b[1;32m     46\u001b[0m         \u001b[0;31m# embedding\u001b[0m\u001b[0;34m\u001b[0m\u001b[0;34m\u001b[0m\u001b[0m\n\u001b[0;32m---> 47\u001b[0;31m         \u001b[0my\u001b[0m \u001b[0;34m=\u001b[0m \u001b[0mself\u001b[0m\u001b[0;34m.\u001b[0m\u001b[0membedding\u001b[0m\u001b[0;34m(\u001b[0m\u001b[0mpos\u001b[0m\u001b[0;34m,\u001b[0m \u001b[0mvel\u001b[0m\u001b[0;34m)\u001b[0m \u001b[0;32mif\u001b[0m \u001b[0mself\u001b[0m\u001b[0;34m.\u001b[0m\u001b[0mvelocity_embedding\u001b[0m \u001b[0;32melse\u001b[0m \u001b[0mself\u001b[0m\u001b[0;34m.\u001b[0m\u001b[0membedding\u001b[0m\u001b[0;34m(\u001b[0m\u001b[0mpos\u001b[0m\u001b[0;34m)\u001b[0m\u001b[0;34m\u001b[0m\u001b[0;34m\u001b[0m\u001b[0m\n\u001b[0m\u001b[1;32m     48\u001b[0m         \u001b[0;31m# jacobian\u001b[0m\u001b[0;34m\u001b[0m\u001b[0;34m\u001b[0m\u001b[0m\n\u001b[1;32m     49\u001b[0m         \u001b[0mj\u001b[0m \u001b[0;34m=\u001b[0m \u001b[0mself\u001b[0m\u001b[0;34m.\u001b[0m\u001b[0membedding\u001b[0m\u001b[0;34m.\u001b[0m\u001b[0mjacobian\u001b[0m\u001b[0;34m(\u001b[0m\u001b[0mpos\u001b[0m\u001b[0;34m,\u001b[0m \u001b[0my\u001b[0m\u001b[0;34m)\u001b[0m\u001b[0;34m\u001b[0m\u001b[0;34m\u001b[0m\u001b[0m\n",
      "\u001b[0;32m~/.local/lib/python3.10/site-packages/torch/nn/modules/module.py\u001b[0m in \u001b[0;36m_call_impl\u001b[0;34m(self, *input, **kwargs)\u001b[0m\n\u001b[1;32m   1188\u001b[0m         if not (self._backward_hooks or self._forward_hooks or self._forward_pre_hooks or _global_backward_hooks\n\u001b[1;32m   1189\u001b[0m                 or _global_forward_hooks or _global_forward_pre_hooks):\n\u001b[0;32m-> 1190\u001b[0;31m             \u001b[0;32mreturn\u001b[0m \u001b[0mforward_call\u001b[0m\u001b[0;34m(\u001b[0m\u001b[0;34m*\u001b[0m\u001b[0minput\u001b[0m\u001b[0;34m,\u001b[0m \u001b[0;34m**\u001b[0m\u001b[0mkwargs\u001b[0m\u001b[0;34m)\u001b[0m\u001b[0;34m\u001b[0m\u001b[0;34m\u001b[0m\u001b[0m\n\u001b[0m\u001b[1;32m   1191\u001b[0m         \u001b[0;31m# Do not call functions when jit is used\u001b[0m\u001b[0;34m\u001b[0m\u001b[0;34m\u001b[0m\u001b[0m\n\u001b[1;32m   1192\u001b[0m         \u001b[0mfull_backward_hooks\u001b[0m\u001b[0;34m,\u001b[0m \u001b[0mnon_full_backward_hooks\u001b[0m \u001b[0;34m=\u001b[0m \u001b[0;34m[\u001b[0m\u001b[0;34m]\u001b[0m\u001b[0;34m,\u001b[0m \u001b[0;34m[\u001b[0m\u001b[0;34m]\u001b[0m\u001b[0;34m\u001b[0m\u001b[0;34m\u001b[0m\u001b[0m\n",
      "\u001b[0;32m~/.local/lib/python3.10/site-packages/learn_embedding/embedding.py\u001b[0m in \u001b[0;36mforward\u001b[0;34m(self, x, v)\u001b[0m\n\u001b[1;32m     23\u001b[0m \u001b[0;34m\u001b[0m\u001b[0m\n\u001b[1;32m     24\u001b[0m     \u001b[0;32mdef\u001b[0m \u001b[0mforward\u001b[0m\u001b[0;34m(\u001b[0m\u001b[0mself\u001b[0m\u001b[0;34m,\u001b[0m \u001b[0mx\u001b[0m\u001b[0;34m,\u001b[0m \u001b[0mv\u001b[0m\u001b[0;34m=\u001b[0m\u001b[0;32mNone\u001b[0m\u001b[0;34m)\u001b[0m\u001b[0;34m:\u001b[0m\u001b[0;34m\u001b[0m\u001b[0;34m\u001b[0m\u001b[0m\n\u001b[0;32m---> 25\u001b[0;31m         \u001b[0my\u001b[0m \u001b[0;34m=\u001b[0m \u001b[0mself\u001b[0m\u001b[0;34m.\u001b[0m\u001b[0mnet_\u001b[0m\u001b[0;34m(\u001b[0m\u001b[0mx\u001b[0m\u001b[0;34m)\u001b[0m\u001b[0;34m\u001b[0m\u001b[0;34m\u001b[0m\u001b[0m\n\u001b[0m\u001b[1;32m     26\u001b[0m \u001b[0;34m\u001b[0m\u001b[0m\n\u001b[1;32m     27\u001b[0m         \u001b[0;32mif\u001b[0m \u001b[0mhasattr\u001b[0m\u001b[0;34m(\u001b[0m\u001b[0mself\u001b[0m\u001b[0;34m,\u001b[0m \u001b[0;34m'local_deformation'\u001b[0m\u001b[0;34m)\u001b[0m\u001b[0;34m:\u001b[0m\u001b[0;34m\u001b[0m\u001b[0;34m\u001b[0m\u001b[0m\n",
      "\u001b[0;32m~/.local/lib/python3.10/site-packages/torch/nn/modules/module.py\u001b[0m in \u001b[0;36m_call_impl\u001b[0;34m(self, *input, **kwargs)\u001b[0m\n\u001b[1;32m   1188\u001b[0m         if not (self._backward_hooks or self._forward_hooks or self._forward_pre_hooks or _global_backward_hooks\n\u001b[1;32m   1189\u001b[0m                 or _global_forward_hooks or _global_forward_pre_hooks):\n\u001b[0;32m-> 1190\u001b[0;31m             \u001b[0;32mreturn\u001b[0m \u001b[0mforward_call\u001b[0m\u001b[0;34m(\u001b[0m\u001b[0;34m*\u001b[0m\u001b[0minput\u001b[0m\u001b[0;34m,\u001b[0m \u001b[0;34m**\u001b[0m\u001b[0mkwargs\u001b[0m\u001b[0;34m)\u001b[0m\u001b[0;34m\u001b[0m\u001b[0;34m\u001b[0m\u001b[0m\n\u001b[0m\u001b[1;32m   1191\u001b[0m         \u001b[0;31m# Do not call functions when jit is used\u001b[0m\u001b[0;34m\u001b[0m\u001b[0;34m\u001b[0m\u001b[0m\n\u001b[1;32m   1192\u001b[0m         \u001b[0mfull_backward_hooks\u001b[0m\u001b[0;34m,\u001b[0m \u001b[0mnon_full_backward_hooks\u001b[0m \u001b[0;34m=\u001b[0m \u001b[0;34m[\u001b[0m\u001b[0;34m]\u001b[0m\u001b[0;34m,\u001b[0m \u001b[0;34m[\u001b[0m\u001b[0;34m]\u001b[0m\u001b[0;34m\u001b[0m\u001b[0;34m\u001b[0m\u001b[0m\n",
      "\u001b[0;32m~/.local/lib/python3.10/site-packages/learn_embedding/approximators/feedforward.py\u001b[0m in \u001b[0;36mforward\u001b[0;34m(self, x)\u001b[0m\n\u001b[1;32m     24\u001b[0m \u001b[0;34m\u001b[0m\u001b[0m\n\u001b[1;32m     25\u001b[0m     \u001b[0;32mdef\u001b[0m \u001b[0mforward\u001b[0m\u001b[0;34m(\u001b[0m\u001b[0mself\u001b[0m\u001b[0;34m,\u001b[0m \u001b[0mx\u001b[0m\u001b[0;34m)\u001b[0m\u001b[0;34m:\u001b[0m\u001b[0;34m\u001b[0m\u001b[0;34m\u001b[0m\u001b[0m\n\u001b[0;32m---> 26\u001b[0;31m         \u001b[0;32mreturn\u001b[0m \u001b[0mself\u001b[0m\u001b[0;34m.\u001b[0m\u001b[0mnet_\u001b[0m\u001b[0;34m(\u001b[0m\u001b[0mx\u001b[0m \u001b[0;32mif\u001b[0m \u001b[0mself\u001b[0m\u001b[0;34m.\u001b[0m\u001b[0mdim_\u001b[0m \u001b[0;34m==\u001b[0m \u001b[0mx\u001b[0m\u001b[0;34m.\u001b[0m\u001b[0mshape\u001b[0m\u001b[0;34m[\u001b[0m\u001b[0;36m1\u001b[0m\u001b[0;34m]\u001b[0m \u001b[0;32melse\u001b[0m \u001b[0mself\u001b[0m\u001b[0;34m.\u001b[0m\u001b[0mencoding\u001b[0m\u001b[0;34m(\u001b[0m\u001b[0mx\u001b[0m\u001b[0;34m)\u001b[0m\u001b[0;34m)\u001b[0m\u001b[0;34m\u001b[0m\u001b[0;34m\u001b[0m\u001b[0m\n\u001b[0m\u001b[1;32m     27\u001b[0m \u001b[0;34m\u001b[0m\u001b[0m\n\u001b[1;32m     28\u001b[0m     \u001b[0;32mdef\u001b[0m \u001b[0mencoding\u001b[0m\u001b[0;34m(\u001b[0m\u001b[0mself\u001b[0m\u001b[0;34m,\u001b[0m \u001b[0mx\u001b[0m\u001b[0;34m)\u001b[0m\u001b[0;34m:\u001b[0m\u001b[0;34m\u001b[0m\u001b[0;34m\u001b[0m\u001b[0m\n",
      "\u001b[0;32m~/.local/lib/python3.10/site-packages/torch/nn/modules/module.py\u001b[0m in \u001b[0;36m_call_impl\u001b[0;34m(self, *input, **kwargs)\u001b[0m\n\u001b[1;32m   1188\u001b[0m         if not (self._backward_hooks or self._forward_hooks or self._forward_pre_hooks or _global_backward_hooks\n\u001b[1;32m   1189\u001b[0m                 or _global_forward_hooks or _global_forward_pre_hooks):\n\u001b[0;32m-> 1190\u001b[0;31m             \u001b[0;32mreturn\u001b[0m \u001b[0mforward_call\u001b[0m\u001b[0;34m(\u001b[0m\u001b[0;34m*\u001b[0m\u001b[0minput\u001b[0m\u001b[0;34m,\u001b[0m \u001b[0;34m**\u001b[0m\u001b[0mkwargs\u001b[0m\u001b[0;34m)\u001b[0m\u001b[0;34m\u001b[0m\u001b[0;34m\u001b[0m\u001b[0m\n\u001b[0m\u001b[1;32m   1191\u001b[0m         \u001b[0;31m# Do not call functions when jit is used\u001b[0m\u001b[0;34m\u001b[0m\u001b[0;34m\u001b[0m\u001b[0m\n\u001b[1;32m   1192\u001b[0m         \u001b[0mfull_backward_hooks\u001b[0m\u001b[0;34m,\u001b[0m \u001b[0mnon_full_backward_hooks\u001b[0m \u001b[0;34m=\u001b[0m \u001b[0;34m[\u001b[0m\u001b[0;34m]\u001b[0m\u001b[0;34m,\u001b[0m \u001b[0;34m[\u001b[0m\u001b[0;34m]\u001b[0m\u001b[0;34m\u001b[0m\u001b[0;34m\u001b[0m\u001b[0m\n",
      "\u001b[0;32m~/.local/lib/python3.10/site-packages/torch/nn/modules/container.py\u001b[0m in \u001b[0;36mforward\u001b[0;34m(self, input)\u001b[0m\n\u001b[1;32m    202\u001b[0m     \u001b[0;32mdef\u001b[0m \u001b[0mforward\u001b[0m\u001b[0;34m(\u001b[0m\u001b[0mself\u001b[0m\u001b[0;34m,\u001b[0m \u001b[0minput\u001b[0m\u001b[0;34m)\u001b[0m\u001b[0;34m:\u001b[0m\u001b[0;34m\u001b[0m\u001b[0;34m\u001b[0m\u001b[0m\n\u001b[1;32m    203\u001b[0m         \u001b[0;32mfor\u001b[0m \u001b[0mmodule\u001b[0m \u001b[0;32min\u001b[0m \u001b[0mself\u001b[0m\u001b[0;34m:\u001b[0m\u001b[0;34m\u001b[0m\u001b[0;34m\u001b[0m\u001b[0m\n\u001b[0;32m--> 204\u001b[0;31m             \u001b[0minput\u001b[0m \u001b[0;34m=\u001b[0m \u001b[0mmodule\u001b[0m\u001b[0;34m(\u001b[0m\u001b[0minput\u001b[0m\u001b[0;34m)\u001b[0m\u001b[0;34m\u001b[0m\u001b[0;34m\u001b[0m\u001b[0m\n\u001b[0m\u001b[1;32m    205\u001b[0m         \u001b[0;32mreturn\u001b[0m \u001b[0minput\u001b[0m\u001b[0;34m\u001b[0m\u001b[0;34m\u001b[0m\u001b[0m\n\u001b[1;32m    206\u001b[0m \u001b[0;34m\u001b[0m\u001b[0m\n",
      "\u001b[0;32m~/.local/lib/python3.10/site-packages/torch/nn/modules/module.py\u001b[0m in \u001b[0;36m_call_impl\u001b[0;34m(self, *input, **kwargs)\u001b[0m\n\u001b[1;32m   1188\u001b[0m         if not (self._backward_hooks or self._forward_hooks or self._forward_pre_hooks or _global_backward_hooks\n\u001b[1;32m   1189\u001b[0m                 or _global_forward_hooks or _global_forward_pre_hooks):\n\u001b[0;32m-> 1190\u001b[0;31m             \u001b[0;32mreturn\u001b[0m \u001b[0mforward_call\u001b[0m\u001b[0;34m(\u001b[0m\u001b[0;34m*\u001b[0m\u001b[0minput\u001b[0m\u001b[0;34m,\u001b[0m \u001b[0;34m**\u001b[0m\u001b[0mkwargs\u001b[0m\u001b[0;34m)\u001b[0m\u001b[0;34m\u001b[0m\u001b[0;34m\u001b[0m\u001b[0m\n\u001b[0m\u001b[1;32m   1191\u001b[0m         \u001b[0;31m# Do not call functions when jit is used\u001b[0m\u001b[0;34m\u001b[0m\u001b[0;34m\u001b[0m\u001b[0m\n\u001b[1;32m   1192\u001b[0m         \u001b[0mfull_backward_hooks\u001b[0m\u001b[0;34m,\u001b[0m \u001b[0mnon_full_backward_hooks\u001b[0m \u001b[0;34m=\u001b[0m \u001b[0;34m[\u001b[0m\u001b[0;34m]\u001b[0m\u001b[0;34m,\u001b[0m \u001b[0;34m[\u001b[0m\u001b[0;34m]\u001b[0m\u001b[0;34m\u001b[0m\u001b[0;34m\u001b[0m\u001b[0m\n",
      "\u001b[0;32m~/.local/lib/python3.10/site-packages/torch/nn/modules/linear.py\u001b[0m in \u001b[0;36mforward\u001b[0;34m(self, input)\u001b[0m\n\u001b[1;32m    112\u001b[0m \u001b[0;34m\u001b[0m\u001b[0m\n\u001b[1;32m    113\u001b[0m     \u001b[0;32mdef\u001b[0m \u001b[0mforward\u001b[0m\u001b[0;34m(\u001b[0m\u001b[0mself\u001b[0m\u001b[0;34m,\u001b[0m \u001b[0minput\u001b[0m\u001b[0;34m:\u001b[0m \u001b[0mTensor\u001b[0m\u001b[0;34m)\u001b[0m \u001b[0;34m->\u001b[0m \u001b[0mTensor\u001b[0m\u001b[0;34m:\u001b[0m\u001b[0;34m\u001b[0m\u001b[0;34m\u001b[0m\u001b[0m\n\u001b[0;32m--> 114\u001b[0;31m         \u001b[0;32mreturn\u001b[0m \u001b[0mF\u001b[0m\u001b[0;34m.\u001b[0m\u001b[0mlinear\u001b[0m\u001b[0;34m(\u001b[0m\u001b[0minput\u001b[0m\u001b[0;34m,\u001b[0m \u001b[0mself\u001b[0m\u001b[0;34m.\u001b[0m\u001b[0mweight\u001b[0m\u001b[0;34m,\u001b[0m \u001b[0mself\u001b[0m\u001b[0;34m.\u001b[0m\u001b[0mbias\u001b[0m\u001b[0;34m)\u001b[0m\u001b[0;34m\u001b[0m\u001b[0;34m\u001b[0m\u001b[0m\n\u001b[0m\u001b[1;32m    115\u001b[0m \u001b[0;34m\u001b[0m\u001b[0m\n\u001b[1;32m    116\u001b[0m     \u001b[0;32mdef\u001b[0m \u001b[0mextra_repr\u001b[0m\u001b[0;34m(\u001b[0m\u001b[0mself\u001b[0m\u001b[0;34m)\u001b[0m \u001b[0;34m->\u001b[0m \u001b[0mstr\u001b[0m\u001b[0;34m:\u001b[0m\u001b[0;34m\u001b[0m\u001b[0;34m\u001b[0m\u001b[0m\n",
      "\u001b[0;31mOutOfMemoryError\u001b[0m: CUDA out of memory. Tried to allocate 2.00 MiB (GPU 0; 7.78 GiB total capacity; 875.73 MiB already allocated; 43.75 MiB free; 882.00 MiB reserved in total by PyTorch) If reserved memory is >> allocated memory try setting max_split_size_mb to avoid fragmentation.  See documentation for Memory Management and PYTORCH_CUDA_ALLOC_CONF"
     ]
    }
   ],
   "source": [
    "resolution = 100\n",
    "std = train_x.detach().std(axis=0)\n",
    "min_ax = train_x.detach().min(axis=0)[0] - std/2\n",
    "max_ax = train_x.detach().max(axis=0)[0] + std/2\n",
    "x, y = torch.meshgrid(torch.linspace(min_ax[0], max_ax[0], resolution), torch.linspace(min_ax[1], max_ax[1], resolution), indexing='xy')\n",
    "\n",
    "grid_x = torch.stack((torch.ravel(x), torch.ravel(y)), dim=1).to(device).requires_grad_(True)\n",
    "grid_v = torch.zeros_like(grid_x).to(device).requires_grad_(True)\n",
    "\n",
    "potential = model.potential(grid_x).reshape(resolution, -1).cpu().detach().numpy()\n",
    "\n",
    "field = model(torch.cat((grid_x,grid_v),dim=1))\n",
    "x_field = field[:, 0].reshape(resolution, -1).cpu().detach().numpy()\n",
    "y_field = field[:, 1].reshape(resolution, -1).cpu().detach().numpy()\n",
    "\n",
    "x0 = np.empty((0, 4))\n",
    "test_x = np.empty((0, 4))\n",
    "for i in idx[split:]:\n",
    "    x0 = np.append(x0, data_x_red[i][0,:][np.newaxis, :], axis=0)\n",
    "    test_x = np.append(test_x, data_x_red[i], axis=0)\n",
    "x0 = torch.from_numpy(x0).float().to(device).requires_grad_(True)\n",
    "\n",
    "streamlines = Integrator.second_order(dynamics=model,x0=x0,T=T, dt=dt).cpu().detach().numpy()"
   ]
  },
  {
   "cell_type": "code",
   "execution_count": null,
   "id": "f10a0036",
   "metadata": {},
   "outputs": [],
   "source": [
    "fig, ax = plt.subplots(figsize=(6, 6))\n",
    "\n",
    "steps = 20\n",
    "ax.streamplot(x.numpy(), y.numpy(), x_field, y_field, color=potential, cmap=\"jet\", linewidth=1.5, arrowstyle='-', arrowsize=1.5)\n",
    "ax.scatter(train_x.cpu().detach()[::steps, 0], train_x.cpu().detach()[::steps, 1], s=40, edgecolors='k', c='red', zorder=10)\n",
    "ax.scatter(test_x[::steps, 0], test_x[::steps, 1], s=40, edgecolors='k', c='blue', zorder=10)\n",
    "\n",
    "ax.scatter(0.0, 0.0, s=400, edgecolors='k', c='yellow', marker=\"*\", zorder=10)\n",
    "\n",
    "for i in range(streamlines.shape[1]):\n",
    "    ax.plot(streamlines[:, i, 0], streamlines[:, i, 1], color='k', linewidth=3.0)\n",
    "    \n",
    "ax.set_xlim([min_ax[0].cpu(), max_ax[0].cpu()])\n",
    "ax.set_ylim([min_ax[1].cpu(), max_ax[1].cpu()])"
   ]
  }
 ],
 "metadata": {
  "kernelspec": {
   "display_name": "Python 3 (ipykernel)",
   "language": "python",
   "name": "python3"
  },
  "language_info": {
   "codemirror_mode": {
    "name": "ipython",
    "version": 3
   },
   "file_extension": ".py",
   "mimetype": "text/x-python",
   "name": "python",
   "nbconvert_exporter": "python",
   "pygments_lexer": "ipython3",
   "version": "3.10.6"
  }
 },
 "nbformat": 4,
 "nbformat_minor": 5
}
