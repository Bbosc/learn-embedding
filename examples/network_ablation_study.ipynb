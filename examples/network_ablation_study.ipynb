{
 "cells": [
  {
   "cell_type": "code",
   "execution_count": 1,
   "id": "b9baff77",
   "metadata": {},
   "outputs": [],
   "source": [
    "import os\n",
    "from importlib.resources import files\n",
    "import time\n",
    "\n",
    "import numpy as np\n",
    "import torch\n",
    "%matplotlib widget\n",
    "import matplotlib\n",
    "import matplotlib.pyplot as plt\n",
    "# Enable LaTeX rendering and set Times as the font family\n",
    "plt.rcParams['text.usetex'] = True\n",
    "plt.rcParams['font.family'] = 'Times'\n",
    "\n",
    "from learn_embedding.approximators import *\n",
    "from learn_embedding.covariances import *\n",
    "from learn_embedding.kernels import SquaredExp\n",
    "from learn_embedding.embedding import Embedding\n",
    "from learn_embedding.dynamics import FirstGeometry, SecondGeometry\n",
    "from learn_embedding.utils import *\n",
    "from learn_embedding.loss import *"
   ]
  },
  {
   "cell_type": "code",
   "execution_count": 2,
   "id": "e18b79b5-5387-47e1-9f7c-1a6afb6aa73d",
   "metadata": {},
   "outputs": [],
   "source": [
    "# problem dimension\n",
    "dim = 2\n",
    "# Total number of trajectories\n",
    "num_traj = 7\n",
    "# Number of trajectories used for training\n",
    "num_train = 4\n",
    "# sampling frequency\n",
    "dt = 0.001\n",
    "# Desired number of samples per trajectory\n",
    "num_samples = 1000\n",
    "# dynamics order\n",
    "second_order = True\n",
    "# number of repetitions\n",
    "reps = 5\n",
    "# number of neurons per layer\n",
    "num_neurons = [32, 64] # [8, 16, 32, 64, 128, 256]\n",
    "# number of layers\n",
    "num_layers = [1, 2, 3] # [1, 2, 3, 4, 5, 6]\n",
    "# maximum number of iterations\n",
    "max_iter = 5e5\n",
    "# loss tolerance\n",
    "loss_tol = 1e-10\n",
    "# cuda\n",
    "use_cuda = torch.cuda.is_available()\n",
    "device = torch.device(\"cuda\" if use_cuda else \"cpu\")"
   ]
  },
  {
   "cell_type": "code",
   "execution_count": 3,
   "id": "22ee193d-2376-4d9d-8f6f-09ace736a67f",
   "metadata": {},
   "outputs": [],
   "source": [
    "delta_t = []\n",
    "sampled_x, sampled_y = [], []\n",
    "for i in range(num_traj):\n",
    "    # Load trajectory data\n",
    "    data = np.loadtxt(\"../learn_embedding/data/synthetic/trajectory_\" + str(i+1) + \".csv\")\n",
    "    t = np.arange(0, data.shape[0]*dt, dt)\n",
    "    # remove last point\n",
    "    data = data[:-1,:]\n",
    "    t = t[:-1]\n",
    "    # subsample\n",
    "    if num_samples is not None:\n",
    "        idx = DataProcess.subsample(data[:,:2], num_samples)\n",
    "        data = data[idx]\n",
    "        t = t[idx]\n",
    "    # center\n",
    "    data[:,:2] -= data[-1,:2]\n",
    "    # zero velocity last sample\n",
    "    data[-1,2:4] = np.zeros(2)\n",
    "    # zero acceleration last sample\n",
    "    data[-1,-2:] = np.zeros(2)\n",
    "    # add delta time\n",
    "    delta_t.append(np.append(t[1:]-t[:-1],0))\n",
    "    # add trajectory\n",
    "    sampled_x.append(data[:,:2*dim] if second_order else data[:,:dim])\n",
    "    sampled_y.append(data[:,-2:] if second_order else data[:,dim:2*dim])"
   ]
  },
  {
   "cell_type": "code",
   "execution_count": 4,
   "id": "e1211ea6-dac1-45c2-bb60-24996ebf6ba4",
   "metadata": {},
   "outputs": [],
   "source": [
    "def train_model(model, train_x, train_y):\n",
    "    model.train()\n",
    "    optimizer = torch.optim.Adam(model.parameters(), lr=1e-2, weight_decay=1e-6)\n",
    "    scheduler = torch.optim.lr_scheduler.ReduceLROnPlateau(optimizer, mode='min', factor=0.5, patience=200, \n",
    "                                                           threshold=1e-3, threshold_mode='rel', cooldown=0, \n",
    "                                                           min_lr=0, eps=1e-8, verbose=False)\n",
    "    loss_fun = torch.nn.MSELoss()\n",
    "    epochs = 0\n",
    "    prev_loss = 1e6\n",
    "    \n",
    "    t0 = time.time()\n",
    "    while epochs <= max_iter:\n",
    "        optimizer.zero_grad()\n",
    "        pred = model(train_x)\n",
    "        loss = loss_fun(pred,train_y)\n",
    "        loss.backward()\n",
    "        optimizer.step()\n",
    "        scheduler.step(loss)\n",
    "        if np.abs(loss.item() - prev_loss) <= loss_tol:\n",
    "            break\n",
    "        prev_loss = loss.item()\n",
    "        epochs += 1\n",
    "    return loss.item(), epochs, time.time()-t0"
   ]
  },
  {
   "cell_type": "code",
   "execution_count": 5,
   "id": "33331cce",
   "metadata": {
    "scrolled": true
   },
   "outputs": [
    {
     "name": "stdout",
     "output_type": "stream",
     "text": [
      "L:  1 N:  32 R:  0 Loss:  0.00055 Epochs:  12059.0 Time:  68.1145 RMSE:  0.03153 COS:  0.00107\n",
      "L:  1 N:  32 R:  1 Loss:  0.00103 Epochs:  26168.0 Time:  147.6241 RMSE:  0.02266 COS:  0.00106\n",
      "L:  1 N:  32 R:  2 Loss:  0.00116 Epochs:  19582.0 Time:  110.91988 RMSE:  0.02536 COS:  0.00122\n",
      "L:  1 N:  32 R:  3 Loss:  0.0015 Epochs:  7757.0 Time:  43.93452 RMSE:  0.02266 COS:  0.0011\n",
      "L:  1 N:  32 R:  4 Loss:  0.00052 Epochs:  17709.0 Time:  98.8097 RMSE:  0.02555 COS:  0.00106\n",
      "L:  1 N:  64 R:  0 Loss:  0.00078 Epochs:  16560.0 Time:  93.70556 RMSE:  0.05774 COS:  0.00183\n",
      "L:  1 N:  64 R:  1 Loss:  0.00095 Epochs:  16455.0 Time:  93.72219 RMSE:  0.06031 COS:  0.00188\n",
      "L:  1 N:  64 R:  2 Loss:  0.00105 Epochs:  22406.0 Time:  125.06324 RMSE:  0.02759 COS:  0.00111\n",
      "L:  1 N:  64 R:  3 Loss:  0.00064 Epochs:  24332.0 Time:  142.79587 RMSE:  0.05722 COS:  0.00178\n",
      "L:  1 N:  64 R:  4 Loss:  0.00089 Epochs:  7665.0 Time:  43.51349 RMSE:  0.04869 COS:  0.00153\n",
      "L:  2 N:  32 R:  0 Loss:  0.00083 Epochs:  21596.0 Time:  165.78269 RMSE:  0.02076 COS:  0.00109\n",
      "L:  2 N:  32 R:  1 Loss:  0.00102 Epochs:  10579.0 Time:  80.87408 RMSE:  0.01219 COS:  0.00106\n",
      "L:  2 N:  32 R:  2 Loss:  0.00097 Epochs:  11774.0 Time:  89.66967 RMSE:  0.07228 COS:  0.00114\n",
      "L:  2 N:  32 R:  3 Loss:  0.00062 Epochs:  21767.0 Time:  165.06417 RMSE:  0.05406 COS:  0.00106\n",
      "L:  2 N:  32 R:  4 Loss:  0.00082 Epochs:  15612.0 Time:  121.35689 RMSE:  0.01919 COS:  0.00106\n",
      "L:  2 N:  64 R:  0 Loss:  0.00093 Epochs:  9911.0 Time:  75.48251 RMSE:  0.0297 COS:  0.00113\n",
      "L:  2 N:  64 R:  1 Loss:  0.00061 Epochs:  20564.0 Time:  153.81917 RMSE:  0.04073 COS:  0.00106\n",
      "L:  2 N:  64 R:  2 Loss:  0.00066 Epochs:  14160.0 Time:  103.86986 RMSE:  0.02985 COS:  0.00107\n",
      "L:  2 N:  64 R:  3 Loss:  0.0005 Epochs:  15563.0 Time:  114.12694 RMSE:  0.05955 COS:  0.00117\n",
      "L:  2 N:  64 R:  4 Loss:  0.00198 Epochs:  5399.0 Time:  39.57126 RMSE:  0.03105 COS:  0.00145\n",
      "L:  3 N:  32 R:  0 Loss:  0.00233 Epochs:  4810.0 Time:  43.11196 RMSE:  0.03139 COS:  0.00113\n",
      "L:  3 N:  32 R:  1 Loss:  0.00165 Epochs:  5548.0 Time:  53.11293 RMSE:  0.03702 COS:  0.00114\n",
      "L:  3 N:  32 R:  2 Loss:  0.00039 Epochs:  22046.0 Time:  201.54882 RMSE:  0.04703 COS:  0.00107\n",
      "L:  3 N:  32 R:  3 Loss:  0.00038 Epochs:  14746.0 Time:  139.75455 RMSE:  0.07467 COS:  0.00107\n",
      "L:  3 N:  32 R:  4 Loss:  0.00067 Epochs:  12308.0 Time:  115.70655 RMSE:  0.10417 COS:  0.00111\n",
      "L:  3 N:  64 R:  0 Loss:  0.00144 Epochs:  5764.0 Time:  54.47432 RMSE:  0.06784 COS:  0.00107\n",
      "L:  3 N:  64 R:  1 Loss:  0.00223 Epochs:  5477.0 Time:  54.14119 RMSE:  0.0436 COS:  0.00113\n",
      "L:  3 N:  64 R:  2 Loss:  0.00151 Epochs:  6141.0 Time:  60.0894 RMSE:  0.05274 COS:  0.0013\n",
      "L:  3 N:  64 R:  3 Loss:  0.00066 Epochs:  9777.0 Time:  89.82434 RMSE:  0.48533 COS:  0.00158\n",
      "L:  3 N:  64 R:  4 Loss:  0.00115 Epochs:  5850.0 Time:  52.56774 RMSE:  0.04846 COS:  0.00113\n"
     ]
    }
   ],
   "source": [
    "# cosine similarity kernel\n",
    "cosine_similarity = torch.nn.CosineSimilarity(dim=1, eps=1e-6)\n",
    "\n",
    "# loss, epochs, time, rmse, cos\n",
    "results_log = np.zeros((5, len(num_layers), len(num_neurons), reps))\n",
    "\n",
    "for i, l in enumerate(num_layers):\n",
    "    for j, n in enumerate(num_neurons):\n",
    "        for k in range(reps):\n",
    "            if second_order:\n",
    "                model = SecondGeometry(Embedding(FeedForward(dim, [n]*l, 1)), torch.tensor([0,0]).to(device), SPD(dim), SPD(dim)).to(device)\n",
    "            else:\n",
    "                model = FirstGeometry(Embedding(FeedForward(dim, [n]*l, 1)), torch.tensor([0,0]).to(device), SPD(dim)).to(device)\n",
    "                \n",
    "            rand_idx = list(np.random.permutation(num_traj))\n",
    "            train_x = torch.from_numpy(np.concatenate(list(sampled_x[q] for q in rand_idx[:num_train]), axis=0)).float().to(device).requires_grad_(True)\n",
    "            train_y = torch.from_numpy(np.concatenate(list(sampled_y[q] for q in rand_idx[:num_train]), axis=0)).float().to(device)\n",
    "            loss, epochs, train_time = train_model(model, train_x, train_y)\n",
    "\n",
    "            rmse, cos = 0.0, 0.0\n",
    "            for z in rand_idx[num_train:]:\n",
    "                test_x = torch.from_numpy(sampled_x[z]).float().to(device).requires_grad_(True)\n",
    "                test_y = torch.from_numpy(sampled_y[z]).float().to(device)\n",
    "                test_dt = torch.from_numpy(delta_t[z]).float().unsqueeze(-1).to(device)\n",
    "                if second_order:\n",
    "                    output = (test_x[:-1, 2:] + test_dt[:-1]*model(test_x[:-1])).detach()\n",
    "                    rmse += (output-test_x[1:, 2:].detach()).square().sum().mean().sqrt()/(num_traj-num_train)\n",
    "                    cos += (1 - cosine_similarity(output, test_x[1:, 2:].detach())).mean()/(num_traj-num_train)\n",
    "                else:\n",
    "                    output = model(test_x).detach()\n",
    "                    rmse += (output-test_y).square().sum().mean().sqrt()/(num_traj-num_train)\n",
    "                    cos += (1 - cosine_similarity(output, test_y)).mean()/(num_traj-num_train)\n",
    "            \n",
    "            results_log[0,i,j,k] = np.round(loss, 5)\n",
    "            results_log[1,i,j,k] = np.round(epochs, 5)\n",
    "            results_log[2,i,j,k] = np.round(train_time, 5)\n",
    "            results_log[3,i,j,k] = np.round(rmse.item(), 5)\n",
    "            results_log[4,i,j,k] = np.round(cos.item(), 5)\n",
    "            print(\"L: \", l, \"N: \", n, \"R: \", k, \n",
    "                  \"Loss: \", results_log[0,i,j,k], \"Epochs: \", results_log[1,i,j,k], \"Time: \", results_log[2,i,j,k], \n",
    "                  \"RMSE: \", results_log[3,i,j,k], \"COS: \", results_log[4,i,j,k])"
   ]
  },
  {
   "cell_type": "code",
   "execution_count": 6,
   "id": "5a68dae7",
   "metadata": {},
   "outputs": [],
   "source": [
    "results_mean = results_log.mean(axis=3)\n",
    "results_std = results_log.std(axis=3)\n",
    "# boxplot_data = [results_log[3,0,0,:], results_log[3,0,1,:], results_log[3,0,2,:]]"
   ]
  },
  {
   "cell_type": "code",
   "execution_count": 7,
   "id": "399bdaea-45c3-4ebb-a3c0-77321e64e98c",
   "metadata": {},
   "outputs": [
    {
     "data": {
      "text/plain": [
       "array([[0.025552, 0.05031 ],\n",
       "       [0.035696, 0.038176],\n",
       "       [0.058856, 0.139594]])"
      ]
     },
     "execution_count": 7,
     "metadata": {},
     "output_type": "execute_result"
    }
   ],
   "source": [
    "results_mean[3]"
   ]
  },
  {
   "cell_type": "code",
   "execution_count": 8,
   "id": "dba5af1c-6a1e-4fff-9b54-6881b4321b8f",
   "metadata": {},
   "outputs": [
    {
     "data": {
      "text/plain": [
       "array([[0.001102, 0.001626],\n",
       "       [0.001082, 0.001176],\n",
       "       [0.001104, 0.001242]])"
      ]
     },
     "execution_count": 8,
     "metadata": {},
     "output_type": "execute_result"
    }
   ],
   "source": [
    "results_mean[4]"
   ]
  },
  {
   "cell_type": "code",
   "execution_count": 36,
   "id": "822dd6e1-7e7b-4547-ad47-13b70b5127ab",
   "metadata": {},
   "outputs": [
    {
     "data": {
      "application/vnd.jupyter.widget-view+json": {
       "model_id": "cc3b04de27624b30b48c284815b382ca",
       "version_major": 2,
       "version_minor": 0
      },
      "image/png": "[encoded data removed]",
      "text/html": [
       "\n",
       "            <div style=\"display: inline-block;\">\n",
       "                <div class=\"jupyter-widgets widget-label\" style=\"text-align: center;\">\n",
       "                    Figure\n",
       "                </div>\n",
       "                <img src='data:image/png;base64,iVBORw0KGgoAAAANSUhEUgAAAoAAAAHgCAYAAAA10dzkAAAAOXRFWHRTb2Z0d2FyZQBNYXRwbG90bGliIHZlcnNpb24zLjUuMSwgaHR0cHM6Ly9tYXRwbG90bGliLm9yZy/YYfK9AAAACXBIWXMAAA9hAAAPYQGoP6dpAAAoQ0lEQVR4nO3dQWwj5303/p92HW/bxBJlx/vuYrWHUIcG6I1a3wKk/ywX6Cm9SCnac8O99yDBB8dIfDCkQ86l0mNRwKZOAQoUoIx/A/QWSdcCBUjjhaXuxk4sSrtpY6cW38OGrJYaSqREaUg9nw9A7K6WnPlphnzmy+eZZ2aq3W63AwCAZNzIuwAAAK6WAAgAkBgBEAAgMQIgAEBiBEAAgMQIgAAAiREAAQASIwACACRGAAQASIwACACQGAEQACAxAiAAQGIEQACAxAiAAACJEQABABIjAAIAJEYABABIjAAIAJAYARAAIDECIABAYgRAAIDECIAAAIkRAAEAEiMAAgAkRgAEAEiMAAgAkBgBEAAgMQIgAEBiBEAAgMQIgAAAiREAAQASIwACACRGAAQASIwACACQGAEQACAxAiAAQGIEQACAxAiAAACJEQABABIjAAIAJEYABABIjAAIAJAYARAAIDECIABAYgRAAIDECIAAAIkRAAEAEiMAAgAkRgAEAEiMAAgAkBgBEAAgMQIgAEBiBEAAgMQIgAAAiREAAQASIwACACRGALyAdrsdh4eH0W638y4FAGBgAuAFPHv2LGZmZuLZs2d5lwIAMDABEAAgMQIgAEBiBEAAgMQIgAAAiREAAQASIwACACRGAAQASIwACACQGAEQACAxAiAAQGIEQACAxAiAAACJEQABABIjAAIAJOaVvAsAuKgHDx7E06dP8y5jYHfu3Imtra28ywASJgACE+/p06ext7eXdxkAE0MABCbenTt38i5hKJNWL3D9CIDAxLuM4dS5ubnY29uLe/fuxe7u7siXD5Ank0AAABIjAAIAJEYABABIjAAIAJAYARAAIDECIABAYgRAAIDECIAAAIkRAAEAEuNOIAAZ/vEf/zG++OKLuHXrVt6lAIzcVLvdbuddxKQ6PDyMmZmZODg4iOnp6bzLAQAYiCFgAIDECIAAAIlxDiBAhn/913/tngP453/+53mXAzBSzgG8AOcAwvU1NzcXe3t7ce/evdjd3c27HICRMgQMAJAYARAAIDECIABAYgRAAIDECIAAAIkRAAEAEiMAAgAkRgAEAEiMAAgAkBi3ggPI4O4fwHWmBxAAIDECIABAYgRAAIDEOAcQIMOPf/zjODg4iJmZmXj33XfzLgdgpKba7XY77yIm1eHhYczMzMTBwUFMT0/nXQ4wQnNzc7G3txf37t0zIQS4dgwBAwAkRgAEAEiMAAgAkBgBEAAgMQIgAEBiBEAAgMQIgAAAiREAAQAS404gABm++93vxq9//ev45je/mXcpACPnTiAX4E4gAMAkMgQMAJAYARAAIDECIABAYgRAgAzf+9734s/+7M/ie9/7Xt6lAIycWcAAGf7jP/4j9vb24uDgIO9SAEZODyAAQGIEQACAxAiAAACJEQABABIjAAIAJEYABABIjAAIAJAYARAAIDEuBA2Q4Uc/+lE8f/48vvGNb+RdCsDITbXb7XbeRUyqw8PDmJmZiYODg5iens67HACAgRgCBgBIjAAIAJAY5wACZHjy5El89dVXcfPmzbh7927e5QCMlB5AgAxvvfVW3L9/P9566628SwEYOQEQACAxAiAAQGIEQACAxAiAAACJEQABABIjAAIAJEYABABIjAAIAJAYARAAIDFuBQeQ4aOPPor/+Z//iVde0UwC14+WDSDDn/7pn+ZdAsClMQQMAJAYARAAIDGGgAEy/NM//VP813/9V/zJn/xJ/M3f/E3e5QCM1FS73W7nXUSeNjc3o16vx87OTnz++edRLpdjdXV1oNceHh7GzMxMHBwcxPT09CVXClylubm52Nvbi3v37sXu7m7e5QCM1FgMAW9ubsbS0lLMz8/H7OxszM/Px+PHj6PZbF7aOtfW1mJ2djYePXoUrVYrVlZWYnt7e+DwBwAwqXIPgEtLS/Ho0aMoFovRaDRif38/6vV6bG5uxvz8fGxsbIx0fTs7OzE/Px8rKyvx+uuvx/b2dlSr1SiXyyNdDwDAuMo1AC4tLcXGxkZUKpWXet6KxWJsb293n7O5uTmS9W1sbMTCwkI0m82oVCrRaDSiVCqNZNkAAJMitwC4vr7e7d3LGnYtFAqxvLwcES9C4CjW11lOuVyOarV64WUCAEyi3AJgJ/SVy+UoFAqZz3n8+HFERLRarVhbWzv3unZ2drrLKhQKUavVzr0sAIBJl0sA3Nzc7E7wePToUd/nFYvFbji8SI/d8R7EWq3WN3ACAKQglwB4vAfurHPwHjx4EBERzWYzdnZ2hl7XyspKN2yWSiWTPQCA5OVyIejjkzqKxeKpzz3+/1tbW0NP2lhfX+/+vTMMvLOzE1tbW9FqtaJUKsWDBw/0CgIAycglAB6/vt/rr79+6nOPB7POzOBBbW5uRqvV6v671WrF/Px85vUFK5WKiSFA1507d176E+A6ufIh4OOBLCLO7Hl74403un///PPPh1pXvV5/6d+//OUvo1arxf7+fuzv70etVuv2MK6vr8f8/Pypy/viiy/i8PDwpQdwPW1tbcXu7m5sbW3lXQrAyF15ABz27h7HA2JveBxmXeVyOWq1WpRKpSgUClEoFGJxcTG2t7e7IbDZbJ462/j999+PmZmZ7uP+/ftD1QMAMA6uPABe5bl2xwPgyspK5nMKhcJLQ7/9nhcR8fbbb8fBwUH38cknn4yuWACAK3LlAfCsc/56He/1GzY8Hn/taevtvRZhv9nGt27diunp6ZceAACTZqJ6AIcNj8fXddb5g53LzUSEc36AePz4cSwtLXWvHgBwneQyC7hUKnV72ZrN5qmXgmk0Gt2/LywsDLWe44HxrPMHj9cw7LmGwPXzz//8z7G3txf37t3LuxSAkcvlQtDHe9vOmhTSO5FjGMfvMnLWeo7PAHZNQADgOsslAB6/NdtZwawzHFssFs+8aHSv44HxeE9iluP/fzygAgBcN7kEwOOTLnqv1Xdcq9XqDseeNju3n1Kp1A2NH3744anP7ZwjWCgUhr7bCADAJMklAEZErK6uRkTExsZG33PuOrdxKxQKUalUMp/TuXZfv5m7neDYarViY2Ojbz2d29N16gIAuK5yC4CVSqXb0/b++++f+P9Wq9X9ea1W67uchYWFWFlZiYWFhb63eOsMBffrRVxfX+/eF7hf0AQAuC5yC4ARL+7tWy6XY21t7aU7cDSbzXj48GFEvAh//SZ/HB8i7rwuS71ej3K5HM1mMxYWFrq9ha1WK9bX1+Px48fdu4IAAFx3uQbAiBfhrFarRb1ej9nZ2Zifn4+lpaV48OBBfPzxx7G4uNj3tYVCIZaXlyPixXmFp80SrtfrUa/Xo1gsxsOHD2Nqaiq+9a1vRa1W6z4AAFIw1W6323kXMakODw9jZmYmDg4O3BUErpm5ubnudQB3d3fzLgdgpHK5EDTAuPvrv/7r2N/fj9nZ2bxLARg5PYAXoAcQAJhEuZ8DCADA1RIAAQASIwACACRGAATI8O1vfzump6fj29/+dt6lAIycAAiQ4fnz5/Hs2bN4/vx53qUAjJwACACQGAEQACAxAiAAQGIEQACAxAiAAACJEQABABIjAAIAJEYABABIzCt5FwAwjv7+7/8+/vu//zv++I//OO9SAEZuqt1ut/MuYlIdHh7GzMxMHBwcxPT0dN7lAAAMxBAwAEBiBEAAgMQ4BxAgw/b2dnz55Zfx6quvxsLCQt7lAIyUAAiQ4S//8i9jb28v7t27F7u7u3mXAzBShoABABIjAAIAJEYABABIjAAIAJAYARAAIDECIABAYgRAAIDECIAAAIkRAAEAEuNOIAAZ/v3f/z3a7XZMTU3lXQrAyAmAABlee+21vEsAuDSGgAEAEiMAAgAkxhAwQIaf/vSncXh4GNPT0/F3f/d3eZcDMFJT7Xa7nXcRk+rw8DBmZmbi4OAgpqen8y4HGKG5ubnY29uLe/fuxe7ubt7lAIyUIWAAgMQIgAAAiREAAQASIwACACRGAAQASIwACACQGAEQACAxAiAAQGLcCQQgQ6lUivv378ebb76ZdykAI+dOIBfgTiAAwCQyBAwAkBgBEAAgMQIgAEBiTAIByPD9738/Pvvss3jzzTfj5z//ed7lAIyUAAiQYWdnJ/b29uLevXt5lwIwcoaAAQASIwACACRGAAQASIwACACQGAEQACAxAiAAQGIEQACAxLgOIHDlHjx4EE+fPs27jFM9efKk++fc3FzO1Zzuzp07sbW1lXcZwAQRAIEr9/Tp09jb28u7jIEcHR1NTK0AgxIAgdxMTd2Ima+/mXcZE+vgt59Fu32UdxnABBIAgdzMfP3NeO9v/y3vMibWO//wnWg9/1XeZQATyCQQAIDECIAAAIkRAAEAEiMAAgAkRgAEAEiMAAgAkBgBEAAgMQIgAEBiBEAAgMQIgAAAiREAAQASIwACACRGAAQASIwACACQGAEQACAxAiAAQGIEQACAxAiAAACJEQABABIjAAIAJEYABABIjAAIAJAYARAAIDECIABAYgRAAIDECIAAAIkRAAEAEiMAAgAkRgAEAEiMAAgAkBgBEAAgMQIgAEBiBEAAgMQIgAAAiREAAQASIwACACRGAAQASIwACACQGAEQACAxAiAAQGKm2u12O+8iJtXh4WHMzMzEwcFBTE9P510OTIxXX301fv/738fU1I2Y+fqbeZczsQ5++1m020fxta99Lb788su8ywEmyCt5FwCk56uvvoqIiHb7KFrPf5VzNZOvsz0BBiUAAlfu5s2bcXR0pAfwgjo9gDdv3sy7FGDCCIDAlbt9+3bs7e3FzNffjPf+9t/yLmdivfMP34nW81/F7du38y4FmDAmgQAAJEYABABIjAAIAJAYARAAIDECIABAYgRAAIDEjEUA3NzcjKWlpZifn4/Z2dmYn5+Px48fR7PZvPR1r6ysxNTUVGxubl76ugAAxkHuAXBpaSkePXoUxWIxGo1G7O/vR71ej83NzZifn4+NjY1LW/fOzk6sra1d2vIBAMZRrgFwaWkpNjY2olKpxOrqavfnxWIxtre3u8+5rN65hw8fXspyAQDGWW4BcH19vdu7dzz8dRQKhVheXo6IFyFw1C5jmQAAkyC3ANgJfeVyOQqFQuZzHj9+HBERrVZrpEO1GxsbsbOzkxk8AQCuu1wC4ObmZneCx6NHj/o+r1gsdsNhtVodybpbrVb88Ic/jFqtFq+//vpIlgkAMElyCYC1Wq3791KpdOpzHzx4EBERzWYzdnZ2LrzupaWlqFQqZ64XAOC6yq0HsKNYLJ763OP/v7W1daH1rq2txeeff27oFwBI2it5rPT49f3OGoY9fn5gZ2bwede5srISjUbj3MsAALgOrrwHsNVqvfTvfhNAOt54443u3z///PNzr3dpaSlWV1fP7HEEALjurrwHcNi7exwPiL3hcVArKysREd3LypzXF198EV988UX334eHhxdaHgBAHq68B/CsHr9R29nZifX19fjoo48uvKz3338/ZmZmuo/79++PoEIAgKt15QFw2EuvHO/1O094fPjwYfzsZz8bSfB8++234+DgoPv45JNPLrxMAICrduVDwBcJYsOGx6WlpSiXy7G4uHjudR5369atuHXr1kiWBQCQl1xmAZdKpe41/ZrN5qkTM47P2l1YWBh4HRsbG7GxsRHb29t9zx08Pqmk1WpduLcRAGAS5BIAHzx4MHAAPD5ppFwuD7yOer0eEYOHxuP3Bl5cXHzpYtUAANdJLheCPh62zpoV3Ln4c7FYdAkXAIARyCUAlsvl7hBrp6cuy/Fh2c6lXAZVrVaj3W6f+ji+7nq93v253j8A4DrLJQBGRPd2bBsbG33P0VtfX4+IF+fjVSqVzOc0m81YW1sbyX2CAQBSkFsArFQqUSqVIuLF9fV6tVqt7s9P65FbWFiIlZWVWFhYGPoi0wAAKcotAEa8uLdvuVyOtbW1WFtb6/682WzGw4cPI+JF+Os3+aN35q4ACABwtlwDYMSLc+9qtVrU6/WYnZ2N+fn5WFpaigcPHsTHH3986jX8CoVC9/Zu5XJ5qFnCAACpmmq32+28i5hUh4eHMTMzEwcHBzE9PZ13OTAx5ubmYm9vLwrf+D/x3t/+W97lTKx3/uE70Xr+q7h3717s7u7mXQ4wQXLvAQQA4GoJgAAAiREAAQASIwACACRGAAQASIwACACQGAEQACAxAiAAQGIEQACAxAiAAACJEQABABIjAAIAJEYABABIjAAIAJAYARAAIDECIABAYgRAAIDEvJJ3AQBwHT148CCePn2adxkDuXPnTmxtbeVdBldIAASAS/D06dPY29vLuwzIJAACwCW4c+fOSJf3m9/8Jo6OjuLGjRvxxhtvjHTZo66V8ScAAsAlGPWQ6tzcXOzt7cW9e/did3d3pMsmPSaBAAAkRgAEAEiMAAgAkBgBEAAgMQIgAEBiBEAAgMQIgAAAiXEdQACSNwm3bXvy5En3z7m5uZyrOZvby403ARCA5E3SbduOjo4mplbGlwAIAH9wYyri7jf+KO8yJtqT57+Lo3beVXAWARAA/uDuN/4odv/uL/IuY6LN/fRfYu/Z7/IugzOYBAIAkBgBEAAgMQIgAEBiBEAAgMQIgAAAiREAAQASIwACACRGAAQASIwACACQGAEQACAxAiAAQGIEQACAxLySdwEAkLdPP/00IiKePP9dzP30X3KuZrI9ef67iPjfbcp4EgABSN5XX30VERFH7Yi9Z7/LuZrrobNNGU8CIADJu3nzZhwdHcWNqYi73/ijvMuZaE+e/y6O2i+2KeNLAAQgebdv3469vb2RLvPT334RX7XbI13mZbk5NRW3v35rpMu8ffv2SJfHaAmAAPAHqQ4BH7XbSf7eKRMAAUjenTt3Rr7MTz/9dGLOg7t58+bIe+wuY5syOgIgAMnb2trKuwS4UgIgkJuD334W7/zDd/IuY2Id/PazvEsAJpQACOSm3T6K1vNf5V0GQHIEQODKTcK5QU+ePHlxWZAbN+Lu3bt5l3OqSdiewHgRAIErNwnnW83NzcXe3l7cvXs3dnd38y4HYKTcCxgAIDECIABAYgRAAIDECIAAAIkRAAEAEiMAAgAkRgAEAEiM6wACZCiVSnH//v1488038y4FYOSm2u12O+8iJtXh4WHMzMzEwcFBTE9P510OAMBADAEDACRGAAQASIwACACQGJNAADJ8//vfj88++yzefPPN+PnPf553OQAjJQACZNjZ2Ym9vb24d+9e3qUAjJwhYACAxOgBZGgPHjyIp0+f5l3GQO7cuRNbW1t5lwEAY0UAZGhPnz6Nvb29vMsAAM5JAGRod+7cybuEgU1SrQBwVQRAhnYZQ6pmXALA1REAGQtmXALA1TELGAAgMQIgAEBiDAEDE+8yLk30/PnzeO211+L58+cxNzc30mW7PBGQNwEQmHiXfWmig4ODS1s2QB4EQGDiTdrlfiatXuD6EQCBiWc4FWA4JoEAACRGD+A1Nyn37X3y5En3z1GfcD9qTuAHYNJNtdvtdt5FTKrDw8OYmZmJg4ODmJ6ezrucTK+++mr8/ve/z7uMa+VrX/tafPnll3mXAQDnZgj4mvvqq6/yLuHasU2BPLz33ntx48aNeO+99/IuhWvAEPA1d/PmzTg6OoqpGzfitW/ezbucifbs10+ifXQUN2/ezLsUIDHvvfde/OhHP4ooxos/I+Kdd97JuSommQB4zd2+fTv29vbitW/ejbf/5eO8y5lo7//Ft+Lw0724fft23qUACemGv/8vIr4bEb8QArk4ARAAxtSJ8Bf/+6cQyEUIgAAwhjLDX4cQyAUJgAAwZk4Nfx1CIBdgFjAAjJl33303ohj9w1/HdyOi+IfnwxAEQAAYMz/+8Y8jmhHxizOe+IuIaP7h+TAEQ8AAMGY6w7md4d3MnsBfRMT/H/GTn/zE8C9DEwABYAydGgKFPy5IAASAMZUZAoU/RkAABIAx9lII/L8R0RT+uDgBEADGXCfsvfvuu/Hjn/xY+OPCBEAAmADvvPOO4MfICICJePbrJ/H+X3wr7zIm2rNfP8m7BAAYCQEwEe2jozj8dC/vMgCAMSAAXnN37twZ+TI//fTT+Oqrr0a6zKOjo+7fb9wY3fXJb968Gbdv3x7Z8iIuZ5sCwFUSAK+5ra2tkS9zbm4u9vYurzfxeBi8qLt378bu7u7IlgcA14EAyNAmqQdskmoFgKsiADK0y+hVBACuzuhOtgIAYCIIgAAAiREAAQASIwACACRGAAQASIwACACQGAEQACAxAiAAQGIEQACAxAiAAACJEQABABIjAAIAJEYABABIzCt5FzDJ2u12REQcHh7mXAkAMKzXXnstpqam8i4jFwLgBTx79iwiIu7fv59zJQDAsA4ODmJ6ejrvMnIx1e50YzG0o6Oj+M///M+kv0GMyuHhYdy/fz8++eSTZD+MjBfvScaN9+TopXz81gN4ATdu3Ii5ubm8y7hWpqenNWyMFe9Jxo33JKNgEggAQGIEQACAxAiAjIVbt27Fu+++G7du3cq7FIgI70nGj/cko2QSCABAYvQAAgAkRgAEAEiMAMi1sLOzE48fP475+fmYmpqK2dnZWFhYiLW1tWi1Wi89t9lsxtraWj6FAsna2dmJlZWVWFhY6LZVU1NTMT8/HwsLC7G0tBTr6+vRbDZPvG6Ya9VpDxlIm7G0vb3djoihH4VCoV0sFtuLi4vt1dXV9vb29lDrrdVq7UKhcOo6KpXKSH/XYrF45u/VaDT6vr5SqZx4frFYfOn3WFxcbNfr9fb29na7XC63C4VC5rKq1eq5tvugj0lRr9fPfB/0e++VSqV2uVxuVyqVdq1Wa+/v75+rhsvcD8f3R7lcHvj362g0GgNvn0KhcOpnZnV19cxlbG9vj8U+4Xyq1Wrmvuvsn6w2sFAotMvlcntxcbH72kH22yjbQ663yTkiJarRaGR+oHsbiHK53C6VSpnPKxaL7Wq1OtR69/f3Tw1DozqA1Ov1vutYXV09dT37+/svNZylUqldr9dfek6j0WgvLy8PHcY6DWO/7dnZ7r2Pcrnc3RdZDf6k2d/f77v9IuKl91+5XO4b5ovF4pn7s9dZoabfgbOzvs7jtNDU0Wg0+n5+lpeXT90+i4uLfbfNaV9cevV++SoUCu1arTZW+4ThZIX2UqnUrlarmdt9e3v71H2bV3vI9WSvT4isg1O/g8v29nZmaCyVSkM39v0ai9MOisPoF7IWFxeHem2xWDz1uY1G48SBcJBtcdEQ1xssJvVgm7Wfeg8ux3UOZFnbr1KpnLkd9vf3T7ymX29272ejXC5nPq/RaJzobeuVVe8gvehZIeu07dPP8c/bWa+/6n3CcLLazkG/iO/v72fu39O+UFxFe8j1IgBOiKxAd5as3rVSqTTUevv10I1iyKDRaPT9pntWQ9k7RD7Iwbb3G/IgB/beRvg8v/f+/v5QQzjjKGuYctDfJeu1xWLx1O1/PABm9YIdN2gA7Dj+nu79HWq12rkO2lmfk9XV1TNf16vzOR/kc3rV+4TB9Ya/QqFwrm3b2+73W8ZVtYdcLyaBTIhCoTD0a8rlclSr1Zd+trOzE+vr6wMv4/XXX8/8eavVuvCJwysrKxHxos5B19vR+3tlLaNXoVCIWq3W/ffnn38+0GsuqlAoxOrq6oWXk6eLbIfl5eVoNBovLaPZbMbCwkJsbGxkvqazb8rlciwuLp573VnK5XLf98vi4mIUi8WXfnb8PXPaMntf1/seHUTn5P+33377zOde9T5hMGtrayfaxo8++ihKpdLQy6pWqwO97qraQ64XAXBCvPHGG+d6XaVSOfGzYcJI5wBRKpVOHHDef//9c9UU8SJAdg40nSCYtd5+tra2zrXeUqnU/f17Z9plOSuIDmqQBvk6KxaL8fHHH58ISUtLS7G5udn3dY8fP76UejrLzTro9a5zc3PzxMzJLL3v42azGTs7O0PV1dkWow69Wc67T+ivM8v3uOXl5XOFv46PPvqo+/d+Ie2q2kOuFwEwAb0N/Hk/6L1h8niIG1YnPGb1uAyi94A8zAGr83s0Go2h13texWIxarXaSHoUJ1WhUIh6vX7i50tLSyf2Z+fflxWcT1tu1pemQXrNf/CDH5z42TC9gJ3P0lWEv45h9gln6w1/o+j9LxQKsby8fOpzJq09ZDwIgAnI+vZ5nhCYNSyV1Xs3iM4BdZChriy9oXGYOgqFQpTL5Ss/wF3lgX1cFYvFEwfEVqt1Yv8Vi8WoVquXFpgLhUJUq9XMHt7O++O4QYJcoVA4sY+HOd2is47L6vXsZ9B9wuk2NzdPBK+sLxPn0XlP9GuzJrE9JH8CYAKyPtjnGdosFAonGrRmszn0cNH6+nq0Wq0ol8vnHhrpbfCyhl5O07kY62VrtVoa1h7Ly8sn9l/vxW+z3mujVqlU+gbM3hA26HDuX/3VX5342SAhsNVqxebmZmb4vAqD7BNOl/UlYVRhvlgsRqlU6jsEPCntIeNFAExA7/khhULh3D0rWY3KsD0Fnd6Gi/QwLC0tnfjZ2tpa5s+zlMvlSw8YES9+Rz0pJ2UdGMdp8kFWb+0gvYBZw6mDvO7DDz+MiNH1GJ3HuO+Tcde7rQqFwrlOb+nno48+yjzNIGJy2kPGiwB4ze3s7JzogerXiAyiWCyeODju7OwMfLL75uZmNJvNKBaLF+rp6Nd7uLGxEQsLC2PTc3Hek7Ovu6yA9cEHH+RQSX/nGc7Nes7Ozs6Z78e8hn+Pm4R9Mq6yRkEePHgw0nWc9sV9UtpDxosAeM31fgPsnFt1EVnn7Q06I3gUvX8dP/vZzzJ/vrOzE/Pz87n3vA0TjFNTLBYzh63GSVYYOy0EdnqAsr7YnPaZ6wwvl0qlkfYYDWsS9sm4ytpOF5n5ex7j3h4yfgTAa6rzoe89rypriGpYpVLpxEFuY2PjzG+ZnfMFR3V+V6lUiu3t7b7fitfW1mJ2dvbKh7GazWasr6/Hw4cPr3S9kyZrv41TT0W5XD5R42lBrvN/KysrJz4fpwXHcej96xj3fTKusmbQnvfSXec1ru0h40sAvCZarVb3Is8LCwsnuv0rlUrmNb/OK+vb5FmXO+j8/3ln/mbpNHr9fq9WqxVLS0vx6NGjkRzIWq1WTE1NnfqYn5+Px48fm/xxhqx9Nm7brPd0iX7Dub2TOHrDXOf/s3TC4UVOzRiVSdgn4yhrckYel3y66vaQySYATrDZ2dmYnZ2NqampmJ2djYWFhXj8+HF3OKJcLsfq6mo0Go2RX1Ij684Hndm9WVqtVvdAN+qTjYvFYjQajVOXu7m5GfPz8yP59tsZKuv3SPlaf8PIOkiN290IsnrlsnoBe0Pc4uLiifdB1hekzkWms3ob8zAJ+2QcjVNIvur2kMklAE6wH/zgB1GpVDJP3q5UKlGv1zMv7zAqWQe0fucCHg9/l3Wgq1ar0Wg0Tp1csrS0dKFzYQqFQjQajVMf+/v7sb29feXnAE2arINmnufAZck6Ly9rODdrGLe3Ry/rjiKdW3GNw/BvxGTsk0mRdyi8ivaQySYATrBqtRqrq6tRq9Uyzzka5iK055HVy9Hv/sCdYHjZjU2xWIx6vX7qXTfW1tYuvY5SqTTQPWRTljUENapb741S7xes3uHczrBw51ptHYNMIun8e1wuEj4p+2TcZLU1v/nNb66+kB7j0h4yngTAayLrA358OPiyZJ3P1xsCNzY2otVqnfu2b+exuLgY+/v7fQ+sa2trl36/04te6ua6G5fzps5y1jBwv0kcWb2Hx1+Xx63fzjIp+2TcjPu5k+PQHjJ+BMBrolAovHTT8I6HDx9eakO0vLx84gDROwzc+fcoJ38Mqlar9Z2cMuhFUi+iVCo5gPbR29s0TkHouN6evYj//VITcXov3ml3FBmn2b8dk7JPxs1bb7114mfjeA3QvNtDxosAeI2USqUTJ6i3Wq1Lv8VP78nGxyd8dK6FVyqVcjsnbnl5OfPE/dNmZo7K6urqhW8Gfx1lnQ/36NGjfIoZQNYt3j788MNuL16/a/hlnYhfrVZfeu+NSy/xpO2TcZK1D8f1Gop5toeMFwHwmqlUKpn3673Mb3dZPXu9F3weVe/feW9Sn7VdIsa3kb7uss6PHIfLoPTTL8id1YuXdW/f4+fnjlMP26Ttk3HS77Zvlx2otIdchAB4DVWr1cwhq8s60Tfrws7NZrN7XknW7eMusq61tbVzXb4gqyful7/85SjKGsrx4cMUHe8h7lhdXR3rofKsILezs9M9wJ8WlLLCYeezOC7Dv5O4T8bNoJcMGqXr0B6SHwHwmsqaFHKehmLQoJIVLjs/G3XwLBaLA9967rhR35z9PDY3N2NpaSnpa6v19kYXCoVYXl7OqZrB9QtrWbPhB/3/cRn+ndR9Mk6yetSu4sveJLeH5EsAnBDDXlKgWCxmDuksLS1dSjd/v16+QW77NmwDWSwWY2dn51zfensPxFfdAD5+/Djphnd9ff3EsFjW5KVx1K8XO+v8wF5ZPYTjMvw7yftknPQLzaP8ApzVdk9ye0i+BMBrrHMnkF7DzAzu9FQN8vys8/zOe9eP09bXaaR++MMfDh0eexvQsw7eo+ypW1lZiWazOTa9PldtZWXlRC9arVYb+eSgy+xd7Q1thUJhoCCX1Xs4DsO/V7VPUrG6unpi243imqytVivm5+czw+RVtodcLwLghMj6YA/yYV9eXj4ROFqtVjx8+HCg9XYuCzHIfSOzZvoOMvkj64B92kF8fn4+Iv73vpaD6u3lGGRm8qiGb9bW1rrXR5zERvYi26HZbMajR49euj5koVCIer0+kl6w3touc8itNywNOkkia5bwRb8IjPM+SVm/a7Ke97Zrm5ub8a1vfSsKhULmqM5VtodcM20mQrFYbEfES49arTbQa/f39zNfv7i4eOZrS6VS9/nVavXM59fr9e7zK5XKQPVVKpWhaqvVakP/Hu32yW3YaDTOfE2hUDhR2/7+/kDr69R6fBsO+/pxUS6XT2yHer3e9/n7+/vtWq2W+brFxcWRbYNGo3Fi+Ze9jY+/J7a3twd+3erq6tDv2dOM6z6hf5tbqVQG3s77+/vtxcXFdkS0i8Vi39ddZXvI9SIAjrn9/f3MgBQR7UKhMHAI3N7ezlxGuVzOPIg1Go1u43P8MUgI7DQsgzQo1Wo1s66IaK+urmY2elkH/WKx2HdbbG9vn2jsTjtQdtaRdaDsPEqlUrtcLrcXFxdPPMrlcmbj33ndJNnf328vLy/33Q7Ht0G5XG6XSqXM0FwoFNrLy8sjDRnb29snwvVZ7+tR6Hwei8XiUK/b398f+stbv+WM6z7hZf3a7kql0q7Vaie2faPRaFer1ZfantXV1VPXcRXtIdeTADimtre3Mxvtfo9CoXDmMk8LW51ek2q1OtB6Tzv4dXoZ+mk0GkP/br1h8vhBvlarvRRWS6VS3yBWKpVODaZnbaOLPpaXl8/cT+OgXq8PtY+O76tisdjdB9VqdeQ9C/1C33neq+fR+TJ1nn3ZObCfxzjvE/rr92X6rMfi4uLA++my2kOut6l2u90OmDDz8/NRrVZfOo+qcy2zDz74IFqtVjSbzSgUCvH6669HuVyOpaWlZCdgMFrz8/NRr9eHnjW5sbER1Wo16vX6JVXGONvY2IgPPvggms1mt42KeDGRo/M4TzulPeQ8BEAAgMSYBQwAkBgBEAAgMQIgAEBiBEAAgMQIgAAAiREAAQASIwACACRGAAQASIwACACQGAEQACAxAiAAQGIEQACAxPw/IjhjSy+rgq0AAAAASUVORK5CYII=' width=640.0/>\n",
       "            </div>\n",
       "        "
      ],
      "text/plain": [
       "Canvas(toolbar=Toolbar(toolitems=[('Home', 'Reset original view', 'home', 'home'), ('Back', 'Back to previous …"
      ]
     },
     "metadata": {},
     "output_type": "display_data"
    }
   ],
   "source": [
    "fig, ax = plt.subplots()\n",
    "boxprops = dict(linewidth=2, facecolor='lightgray')  # No edge for the boxes\n",
    "medianprops = dict(linewidth=2, color='black', linestyle='-')\n",
    "whiskerprops = dict(linewidth=2, color='black', linestyle='--')  # Dashed whiskers\n",
    "capprops = dict(linewidth=2, color='black')\n",
    "flierprops = dict(markerfacecolor='g', marker='D')  # Green diamonds for outliers\n",
    "boxplot = ax.boxplot(boxplot_data, boxprops=boxprops, medianprops=medianprops,\n",
    "                     whiskerprops=whiskerprops, capprops=capprops, \n",
    "                     flierprops=flierprops, patch_artist=True, widths=0.5)\n",
    "colors = ['lightskyblue', 'mediumpurple', 'coral']\n",
    "for patch, color in zip(boxplot['boxes'], colors):\n",
    "    patch.set_facecolor(color)\n",
    "ax.set_xticks([1, 2, 3], ['RMSE', 'DTWD', 'CS'], fontsize=32)\n",
    "# ax.set_yticks([],fontsize=12)\n",
    "ax.tick_params(axis='y', labelsize=24)\n",
    "ax.spines['top'].set_visible(False)\n",
    "ax.spines['right'].set_visible(False)"
   ]
  },
  {
   "cell_type": "code",
   "execution_count": null,
   "id": "05fc72d5-1d6d-43ad-80be-c79799af1af3",
   "metadata": {},
   "outputs": [],
   "source": []
  }
 ],
 "metadata": {
  "kernelspec": {
   "display_name": "Python 3 (ipykernel)",
   "language": "python",
   "name": "python3"
  },
  "language_info": {
   "codemirror_mode": {
    "name": "ipython",
    "version": 3
   },
   "file_extension": ".py",
   "mimetype": "text/x-python",
   "name": "python",
   "nbconvert_exporter": "python",
   "pygments_lexer": "ipython3",
   "version": "3.10.12"
  }
 },
 "nbformat": 4,
 "nbformat_minor": 5
}
